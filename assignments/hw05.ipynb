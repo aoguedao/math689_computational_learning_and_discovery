{
 "cells": [
  {
   "cell_type": "code",
   "execution_count": 7,
   "metadata": {},
   "outputs": [],
   "source": [
    "import secrets\n",
    "import numpy as np\n",
    "import matplotlib.pyplot as plt\n",
    "\n",
    "from pathlib import Path"
   ]
  },
  {
   "cell_type": "code",
   "execution_count": 8,
   "metadata": {},
   "outputs": [],
   "source": [
    "data_path = Path().resolve().parent / \"data\""
   ]
  },
  {
   "cell_type": "code",
   "execution_count": 12,
   "metadata": {},
   "outputs": [],
   "source": [
    "# Random seed\n",
    "# secrets.randbits(128) # 208905213533139122735706682150229709525\n",
    "rng = np.random.default_rng(208905213533139122735706682150229709525)\n",
    "indices_train = rng.choice(5000, 500, replace=False)\n",
    "indices_test = rng.choice(800, 100, replace=False)"
   ]
  },
  {
   "cell_type": "code",
   "execution_count": 13,
   "metadata": {},
   "outputs": [],
   "source": [
    "# Create a dictionary where keys are the target digit and values are the images array sampled\n",
    "train_list = []\n",
    "for f in data_path.glob(\"train*.txt\"):\n",
    "    raw_data = np.loadtxt(f)[indices_train, :]\n",
    "    target = raw_data[:, [0]]\n",
    "    features = (raw_data[:, 1:] / raw_data[:, 1:].max(axis=1, keepdims=True)).astype(bool).astype(int)\n",
    "    train_list.append(np.hstack((target, features)))\n",
    "train_data = np.vstack(train_list)"
   ]
  },
  {
   "cell_type": "code",
   "execution_count": 14,
   "metadata": {},
   "outputs": [],
   "source": [
    "# Create a dictionary where keys are the target digit and values are the images array sampled\n",
    "test_list = []\n",
    "for f in data_path.glob(\"test*.txt\"):\n",
    "    raw_data = np.loadtxt(f)[indices_test, :]\n",
    "    target = raw_data[:, [0]]\n",
    "    features = (raw_data[:, 1:] / raw_data[:, 1:].max(axis=1, keepdims=True)).astype(bool).astype(int)\n",
    "    test_list.append(np.hstack((target, features)))\n",
    "test_data = np.vstack(test_list)"
   ]
  },
  {
   "cell_type": "code",
   "execution_count": 15,
   "metadata": {},
   "outputs": [
    {
     "data": {
      "image/png": "[encoded data removed]",
      "text/plain": [
       "<Figure size 576x576 with 9 Axes>"
      ]
     },
     "metadata": {
      "needs_background": "light"
     },
     "output_type": "display_data"
    }
   ],
   "source": [
    "# Show a few examples of images\n",
    "width, height = 28, 28\n",
    "img_indices = rng.choice(train_data.shape[0], 9)\n",
    "fig, axs = plt.subplots(nrows=3, ncols=3, figsize=(8, 8))\n",
    "for i, ax in zip(img_indices, axs.flatten()):\n",
    "    sample_image = train_data[i, 1:].reshape(width, height)\n",
    "    ax.imshow(sample_image, cmap=plt.cm.gray_r)\n",
    "plt.show()"
   ]
  },
  {
   "cell_type": "code",
   "execution_count": 49,
   "metadata": {},
   "outputs": [],
   "source": [
    "X_train = train_data[:, 1:]\n",
    "y_train = train_data[:, 0]\n",
    "X_test = test_data[:, 1:]\n",
    "y_test = test_data[:, 0]"
   ]
  },
  {
   "cell_type": "code",
   "execution_count": 82,
   "metadata": {},
   "outputs": [],
   "source": [
    "y_train_unique, y_train_count = np.unique(y_train, return_counts=True)\n",
    "prob_v_dict = dict(zip(y_train_unique.astype(int), y_train_count / y_train.size))\n",
    "\n",
    "m = 1\n",
    "p = 1 / 2\n",
    "\n",
    "prob_a_1_dict = {}\n",
    "prob_a_0_dict = {}\n",
    "for i in y_train_unique:\n",
    "    X_train_target_i = X_train[y_train == i]\n",
    "    prob_a_0_dict[i] = ((X_train_target_i == 0).sum(axis=0) + m * p) / (X_train_target_i.shape[0] + m)\n",
    "    prob_a_1_dict[i] = ((X_train_target_i == 1).sum(axis=0) + m * p) / (X_train_target_i.shape[0] + m)"
   ]
  },
  {
   "cell_type": "code",
   "execution_count": 92,
   "metadata": {},
   "outputs": [],
   "source": [
    "# j = 0\n",
    "# X_test_j = X_test[j, :]\n",
    "# y_test_j = y_test[j]"
   ]
  },
  {
   "cell_type": "code",
   "execution_count": null,
   "metadata": {},
   "outputs": [],
   "source": [
    "np.empty()"
   ]
  },
  {
   "cell_type": "code",
   "execution_count": 97,
   "metadata": {},
   "outputs": [],
   "source": [
    "y_pred = np.empty(shape=X_test.shape[0])\n",
    "for j in range(X_test.shape[0]):\n",
    "    X_test_j = X_test[j, :]\n",
    "    prob_dict = {}\n",
    "    for i in y_train_unique:\n",
    "        prob_dict[i] = (\n",
    "            prob_v_dict[i]\n",
    "            * np.prod(prob_a_0_dict[i][X_test_j == 0])\n",
    "            * np.prod(prob_a_1_dict[i][X_test_j == 1])\n",
    "        )\n",
    "    y_pred[j] = max(prob_dict, key=prob_dict.get)"
   ]
  },
  {
   "cell_type": "code",
   "execution_count": 98,
   "metadata": {},
   "outputs": [
    {
     "data": {
      "text/plain": [
       "array([0., 0., 0., 0., 0., 8., 0., 0., 0., 0., 0., 0., 0., 0., 0., 0., 0.,\n",
       "       0., 0., 0., 0., 0., 0., 0., 0., 0., 0., 0., 5., 0., 0., 0., 0., 0.,\n",
       "       0., 0., 6., 0., 6., 0., 0., 0., 0., 0., 0., 0., 0., 0., 5., 0., 8.,\n",
       "       0., 0., 0., 0., 0., 0., 0., 0., 0., 6., 0., 5., 0., 0., 0., 0., 0.,\n",
       "       0., 0., 0., 0., 8., 0., 0., 8., 0., 8., 0., 0., 5., 0., 0., 0., 0.,\n",
       "       0., 5., 4., 0., 8., 0., 0., 0., 0., 0., 0., 0., 0., 0., 0., 1., 1.,\n",
       "       1., 1., 1., 1., 5., 1., 1., 3., 1., 1., 1., 1., 1., 1., 1., 1., 1.,\n",
       "       2., 1., 1., 1., 1., 1., 1., 1., 1., 1., 1., 1., 1., 1., 1., 1., 1.,\n",
       "       1., 1., 1., 1., 1., 1., 1., 1., 1., 1., 1., 1., 1., 5., 1., 1., 1.,\n",
       "       1., 1., 1., 1., 1., 1., 1., 1., 3., 1., 1., 1., 1., 1., 1., 1., 1.,\n",
       "       1., 1., 1., 1., 1., 1., 1., 1., 1., 1., 1., 1., 1., 1., 1., 1., 1.,\n",
       "       1., 1., 1., 1., 1., 1., 1., 1., 1., 1., 1., 1., 1., 2., 2., 6., 2.,\n",
       "       2., 2., 2., 2., 2., 2., 2., 2., 2., 2., 8., 2., 6., 2., 2., 2., 6.,\n",
       "       2., 2., 8., 2., 2., 2., 2., 2., 2., 2., 2., 2., 2., 0., 2., 2., 2.,\n",
       "       2., 0., 2., 2., 2., 2., 2., 2., 2., 2., 2., 4., 8., 2., 2., 2., 3.,\n",
       "       2., 2., 2., 1., 2., 2., 2., 2., 2., 2., 2., 2., 8., 2., 2., 2., 2.,\n",
       "       6., 2., 2., 2., 2., 2., 6., 2., 2., 2., 8., 2., 2., 2., 2., 2., 2.,\n",
       "       2., 2., 2., 2., 2., 2., 2., 2., 2., 2., 2., 3., 3., 3., 3., 3., 3.,\n",
       "       3., 3., 3., 3., 3., 3., 3., 3., 3., 3., 3., 3., 3., 3., 3., 3., 3.,\n",
       "       3., 3., 3., 3., 3., 3., 1., 3., 3., 3., 3., 3., 9., 9., 3., 3., 3.,\n",
       "       3., 3., 3., 3., 3., 3., 3., 3., 3., 3., 3., 3., 3., 9., 3., 5., 3.,\n",
       "       3., 3., 3., 9., 3., 3., 3., 3., 2., 0., 3., 3., 3., 3., 9., 3., 3.,\n",
       "       7., 8., 3., 3., 3., 3., 3., 3., 3., 3., 9., 0., 3., 3., 3., 3., 3.,\n",
       "       3., 3., 8., 2., 3., 3., 3., 3., 3., 4., 4., 4., 4., 4., 4., 4., 4.,\n",
       "       2., 4., 4., 9., 9., 4., 4., 4., 4., 4., 4., 4., 4., 9., 9., 4., 4.,\n",
       "       4., 4., 4., 4., 4., 9., 4., 4., 4., 4., 4., 4., 4., 4., 4., 4., 4.,\n",
       "       4., 4., 2., 4., 4., 9., 9., 9., 4., 9., 4., 4., 4., 4., 4., 8., 4.,\n",
       "       4., 4., 9., 4., 4., 4., 4., 4., 4., 4., 4., 4., 4., 4., 6., 4., 4.,\n",
       "       2., 4., 4., 4., 4., 4., 4., 9., 4., 4., 9., 4., 4., 4., 9., 9., 4.,\n",
       "       4., 4., 4., 4., 4., 2., 4., 5., 5., 5., 5., 5., 5., 9., 5., 5., 5.,\n",
       "       3., 9., 5., 3., 5., 5., 5., 5., 5., 8., 5., 3., 3., 6., 5., 5., 5.,\n",
       "       3., 5., 5., 5., 5., 5., 5., 9., 5., 5., 5., 3., 5., 3., 3., 5., 5.,\n",
       "       5., 5., 5., 5., 5., 5., 9., 0., 5., 5., 7., 5., 5., 5., 3., 0., 9.,\n",
       "       5., 1., 4., 5., 5., 3., 3., 1., 5., 5., 3., 3., 3., 5., 5., 3., 5.,\n",
       "       5., 5., 5., 5., 5., 5., 5., 5., 4., 5., 5., 5., 5., 5., 5., 1., 0.,\n",
       "       5., 5., 5., 5., 5., 6., 6., 6., 6., 6., 6., 6., 6., 6., 6., 6., 6.,\n",
       "       6., 6., 6., 6., 6., 6., 6., 6., 6., 6., 6., 6., 6., 6., 6., 6., 6.,\n",
       "       6., 6., 6., 6., 6., 1., 6., 6., 5., 6., 6., 6., 6., 6., 6., 6., 6.,\n",
       "       6., 6., 6., 6., 6., 6., 6., 1., 6., 6., 6., 6., 5., 6., 6., 5., 6.,\n",
       "       6., 6., 6., 6., 6., 4., 6., 6., 6., 6., 6., 5., 6., 6., 6., 6., 6.,\n",
       "       6., 6., 6., 6., 6., 6., 6., 6., 6., 6., 6., 6., 6., 6., 6., 6., 6.,\n",
       "       6., 5., 6., 7., 8., 3., 7., 1., 7., 4., 2., 1., 7., 7., 7., 9., 7.,\n",
       "       7., 7., 7., 7., 7., 7., 7., 2., 7., 7., 7., 7., 7., 8., 7., 1., 9.,\n",
       "       7., 4., 7., 7., 7., 4., 7., 7., 7., 7., 7., 7., 7., 7., 7., 7., 7.,\n",
       "       7., 7., 7., 7., 7., 7., 7., 7., 7., 7., 7., 7., 1., 7., 7., 7., 7.,\n",
       "       7., 7., 7., 7., 7., 7., 7., 7., 7., 7., 7., 9., 7., 7., 7., 7., 7.,\n",
       "       9., 7., 2., 7., 7., 7., 7., 7., 9., 7., 7., 7., 7., 7., 7., 7., 7.,\n",
       "       7., 8., 8., 8., 8., 8., 8., 4., 2., 8., 8., 8., 8., 8., 8., 8., 8.,\n",
       "       8., 8., 8., 8., 8., 8., 8., 8., 1., 4., 8., 8., 8., 8., 3., 2., 8.,\n",
       "       8., 5., 8., 8., 8., 8., 8., 7., 5., 8., 3., 8., 8., 8., 3., 1., 7.,\n",
       "       6., 8., 9., 8., 8., 8., 8., 7., 8., 8., 3., 3., 8., 8., 8., 8., 8.,\n",
       "       4., 8., 8., 8., 1., 3., 8., 8., 8., 8., 0., 8., 8., 3., 1., 8., 8.,\n",
       "       2., 8., 8., 8., 2., 8., 8., 8., 9., 8., 8., 4., 8., 8., 8., 8., 9.,\n",
       "       8., 9., 9., 4., 9., 9., 9., 9., 9., 9., 0., 9., 9., 9., 9., 9., 9.,\n",
       "       9., 9., 9., 9., 9., 9., 9., 9., 3., 9., 5., 9., 9., 9., 9., 9., 3.,\n",
       "       9., 9., 9., 8., 9., 9., 9., 9., 9., 9., 9., 9., 9., 9., 4., 9., 9.,\n",
       "       9., 9., 9., 9., 9., 9., 9., 9., 5., 9., 9., 9., 9., 9., 9., 7., 3.,\n",
       "       9., 9., 9., 9., 9., 1., 9., 9., 9., 9., 9., 9., 9., 4., 9., 9., 9.,\n",
       "       9., 9., 9., 9., 9., 9., 9., 9., 9., 9., 9., 5., 9., 9.])"
      ]
     },
     "execution_count": 98,
     "metadata": {},
     "output_type": "execute_result"
    }
   ],
   "source": [
    "y_pred"
   ]
  }
 ],
 "metadata": {
  "kernelspec": {
   "display_name": "pinn",
   "language": "python",
   "name": "python3"
  },
  "language_info": {
   "codemirror_mode": {
    "name": "ipython",
    "version": 3
   },
   "file_extension": ".py",
   "mimetype": "text/x-python",
   "name": "python",
   "nbconvert_exporter": "python",
   "pygments_lexer": "ipython3",
   "version": "3.9.13"
  },
  "orig_nbformat": 4
 },
 "nbformat": 4,
 "nbformat_minor": 2
}
