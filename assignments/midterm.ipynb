{
 "cells": [
  {
   "cell_type": "markdown",
   "metadata": {},
   "source": [
    "# Midterm"
   ]
  },
  {
   "cell_type": "code",
   "execution_count": 18,
   "metadata": {},
   "outputs": [],
   "source": [
    "import secrets\n",
    "import numpy as np\n",
    "import pandas as pd\n",
    "import matplotlib.pyplot as plt\n",
    "\n",
    "from pathlib import Path\n",
    "from sklearn.metrics import ConfusionMatrixDisplay\n",
    "from scipy import stats"
   ]
  },
  {
   "cell_type": "code",
   "execution_count": 19,
   "metadata": {},
   "outputs": [],
   "source": [
    "data_path = Path().resolve().parent / \"data\""
   ]
  },
  {
   "cell_type": "code",
   "execution_count": 20,
   "metadata": {},
   "outputs": [],
   "source": [
    "def sigmoid(x):\n",
    "    return 1 / (1 + np.exp(-x))"
   ]
  },
  {
   "cell_type": "code",
   "execution_count": 21,
   "metadata": {},
   "outputs": [],
   "source": [
    "# Random seed for reproducibility\n",
    "# secrets.randbits(128) # 208905213533139122735706682150229709525\n",
    "rng = np.random.default_rng(208905213533139122735706682150229709525)\n",
    "indices_train = rng.choice(5000, 2500, replace=False)\n",
    "indices_test = rng.choice(800, 400, replace=False)\n",
    "flag_full_dataset = True  # If it is True it will use full train and test datasets"
   ]
  },
  {
   "cell_type": "code",
   "execution_count": 22,
   "metadata": {},
   "outputs": [
    {
     "data": {
      "text/plain": [
       "(60000, 785)"
      ]
     },
     "execution_count": 22,
     "metadata": {},
     "output_type": "execute_result"
    }
   ],
   "source": [
    "train_list = []  # Auxiliary list of train datasets\n",
    "for f in data_path.glob(\"train*.txt\"):\n",
    "    # Sample or full dataset\n",
    "    raw_data = np.loadtxt(f) if flag_full_dataset else np.loadtxt(f)[indices_train, :]\n",
    "    target = raw_data[:, [0]]  # Target values, i.e. digit\n",
    "    features = raw_data[:, 1:] / raw_data[:, 1:].max(axis=1, keepdims=True)\n",
    "    train_list.append(np.hstack((target, features)))  # Add to the temp list\n",
    "train_data = np.vstack(train_list)  # Concatenate train datasets\n",
    "train_data.shape"
   ]
  },
  {
   "cell_type": "code",
   "execution_count": 23,
   "metadata": {},
   "outputs": [
    {
     "data": {
      "text/plain": [
       "(10000, 785)"
      ]
     },
     "execution_count": 23,
     "metadata": {},
     "output_type": "execute_result"
    }
   ],
   "source": [
    "# Similar to train dataset\n",
    "test_list = []\n",
    "for f in data_path.glob(\"test*.txt\"):\n",
    "    raw_data = np.loadtxt(f) if flag_full_dataset else np.loadtxt(f)[indices_test, :]\n",
    "    target = raw_data[:, [0]]\n",
    "    features = raw_data[:, 1:] / raw_data[:, 1:].max(axis=1, keepdims=True)\n",
    "    test_list.append(np.hstack((target, features)))\n",
    "test_data = np.vstack(test_list)\n",
    "test_data.shape"
   ]
  },
  {
   "cell_type": "code",
   "execution_count": 24,
   "metadata": {},
   "outputs": [],
   "source": [
    "# Split datasets into features matrices and target vectors\n",
    "rng.shuffle(train_data)\n",
    "X_train = train_data[:, 1:]\n",
    "y_train = train_data[:, 0].astype(int)\n",
    "X_test = test_data[:, 1:]\n",
    "y_test = test_data[:, 0].astype(int)"
   ]
  },
  {
   "cell_type": "code",
   "execution_count": 25,
   "metadata": {},
   "outputs": [
    {
     "data": {
      "text/plain": [
       "array([3, 3, 6, 2, 4])"
      ]
     },
     "metadata": {},
     "output_type": "display_data"
    },
    {
     "data": {
      "text/html": [
       "<div>\n",
       "<style scoped>\n",
       "    .dataframe tbody tr th:only-of-type {\n",
       "        vertical-align: middle;\n",
       "    }\n",
       "\n",
       "    .dataframe tbody tr th {\n",
       "        vertical-align: top;\n",
       "    }\n",
       "\n",
       "    .dataframe thead th {\n",
       "        text-align: right;\n",
       "    }\n",
       "</style>\n",
       "<table border=\"1\" class=\"dataframe\">\n",
       "  <thead>\n",
       "    <tr style=\"text-align: right;\">\n",
       "      <th></th>\n",
       "      <th>0</th>\n",
       "      <th>1</th>\n",
       "      <th>2</th>\n",
       "      <th>3</th>\n",
       "      <th>4</th>\n",
       "      <th>5</th>\n",
       "      <th>6</th>\n",
       "      <th>7</th>\n",
       "      <th>8</th>\n",
       "      <th>9</th>\n",
       "    </tr>\n",
       "  </thead>\n",
       "  <tbody>\n",
       "    <tr>\n",
       "      <th>0</th>\n",
       "      <td>0</td>\n",
       "      <td>0</td>\n",
       "      <td>0</td>\n",
       "      <td>1</td>\n",
       "      <td>0</td>\n",
       "      <td>0</td>\n",
       "      <td>0</td>\n",
       "      <td>0</td>\n",
       "      <td>0</td>\n",
       "      <td>0</td>\n",
       "    </tr>\n",
       "    <tr>\n",
       "      <th>1</th>\n",
       "      <td>0</td>\n",
       "      <td>0</td>\n",
       "      <td>0</td>\n",
       "      <td>1</td>\n",
       "      <td>0</td>\n",
       "      <td>0</td>\n",
       "      <td>0</td>\n",
       "      <td>0</td>\n",
       "      <td>0</td>\n",
       "      <td>0</td>\n",
       "    </tr>\n",
       "    <tr>\n",
       "      <th>2</th>\n",
       "      <td>0</td>\n",
       "      <td>0</td>\n",
       "      <td>0</td>\n",
       "      <td>0</td>\n",
       "      <td>0</td>\n",
       "      <td>0</td>\n",
       "      <td>1</td>\n",
       "      <td>0</td>\n",
       "      <td>0</td>\n",
       "      <td>0</td>\n",
       "    </tr>\n",
       "    <tr>\n",
       "      <th>3</th>\n",
       "      <td>0</td>\n",
       "      <td>0</td>\n",
       "      <td>1</td>\n",
       "      <td>0</td>\n",
       "      <td>0</td>\n",
       "      <td>0</td>\n",
       "      <td>0</td>\n",
       "      <td>0</td>\n",
       "      <td>0</td>\n",
       "      <td>0</td>\n",
       "    </tr>\n",
       "    <tr>\n",
       "      <th>4</th>\n",
       "      <td>0</td>\n",
       "      <td>0</td>\n",
       "      <td>0</td>\n",
       "      <td>0</td>\n",
       "      <td>1</td>\n",
       "      <td>0</td>\n",
       "      <td>0</td>\n",
       "      <td>0</td>\n",
       "      <td>0</td>\n",
       "      <td>0</td>\n",
       "    </tr>\n",
       "  </tbody>\n",
       "</table>\n",
       "</div>"
      ],
      "text/plain": [
       "   0  1  2  3  4  5  6  7  8  9\n",
       "0  0  0  0  1  0  0  0  0  0  0\n",
       "1  0  0  0  1  0  0  0  0  0  0\n",
       "2  0  0  0  0  0  0  1  0  0  0\n",
       "3  0  0  1  0  0  0  0  0  0  0\n",
       "4  0  0  0  0  1  0  0  0  0  0"
      ]
     },
     "metadata": {},
     "output_type": "display_data"
    }
   ],
   "source": [
    "display(y_train[:5])\n",
    "display(pd.get_dummies(y_train).head())"
   ]
  },
  {
   "cell_type": "code",
   "execution_count": 26,
   "metadata": {},
   "outputs": [
    {
     "data": {
      "text/plain": [
       "array([[0, 0, 0, ..., 0, 0, 0],\n",
       "       [0, 0, 0, ..., 0, 0, 0],\n",
       "       [0, 0, 0, ..., 0, 0, 0],\n",
       "       ...,\n",
       "       [0, 1, 0, ..., 0, 0, 0],\n",
       "       [0, 0, 0, ..., 0, 1, 0],\n",
       "       [0, 0, 0, ..., 0, 0, 1]], dtype=uint8)"
      ]
     },
     "execution_count": 26,
     "metadata": {},
     "output_type": "execute_result"
    }
   ],
   "source": [
    "y_train_encoded = pd.get_dummies(y_train).to_numpy()\n",
    "y_train_encoded"
   ]
  },
  {
   "cell_type": "code",
   "execution_count": 27,
   "metadata": {},
   "outputs": [],
   "source": [
    "def forward(x, W_hidden, bias_hidden, W_output, bias_output):\n",
    "    hidden = sigmoid(W_hidden @ x + bias_hidden)\n",
    "    output = sigmoid(W_output @ hidden + bias_output)\n",
    "    return hidden, output\n",
    "\n",
    "\n",
    "def backward(x, target, W_hidden, bias_hidden, W_output, bias_output, hidden, output, eta):\n",
    "    # Errors\n",
    "    delta_output = output * (1 - output) * (target - output)\n",
    "    delta_hidden = hidden * (1 - hidden) * W_output.T @ delta_output\n",
    "    # Update\n",
    "    D_W_hidden = eta * delta_hidden @ x.T\n",
    "    D_bias_hidden = eta * delta_hidden\n",
    "    D_W_output = eta * delta_output @ hidden.T\n",
    "    D_bias_output = eta * delta_output\n",
    "    W_hidden = W_hidden + D_W_hidden\n",
    "    bias_hidden = bias_hidden + D_bias_hidden\n",
    "    W_output = W_output + D_W_output\n",
    "    bias_output = bias_output + D_bias_output\n",
    "    return W_hidden, bias_hidden, W_output, bias_output"
   ]
  },
  {
   "cell_type": "code",
   "execution_count": 28,
   "metadata": {},
   "outputs": [],
   "source": [
    "n_feature = X_train.shape[1]\n",
    "n_output = np.unique(y_train).size  # Unique number of digits/classes\n",
    "n_hidden = 10\n",
    "\n",
    "eta = 0.05\n",
    "init_min = -0.05\n",
    "init_max = 0.05"
   ]
  },
  {
   "cell_type": "code",
   "execution_count": 29,
   "metadata": {},
   "outputs": [
    {
     "name": "stdout",
     "output_type": "stream",
     "text": [
      "Iteration: 0\n"
     ]
    },
    {
     "name": "stdout",
     "output_type": "stream",
     "text": [
      "Iteration: 100000\n",
      "Iteration: 200000\n",
      "Iteration: 300000\n"
     ]
    },
    {
     "ename": "KeyboardInterrupt",
     "evalue": "",
     "output_type": "error",
     "traceback": [
      "\u001b[0;31m---------------------------------------------------------------------------\u001b[0m",
      "\u001b[0;31mKeyboardInterrupt\u001b[0m                         Traceback (most recent call last)",
      "\u001b[1;32m/mnt/c/Users/aogueda/Documents/git/math689_computational_learning_and_discovery/assignments/midterm.ipynb Cell 13\u001b[0m line \u001b[0;36m2\n\u001b[1;32m     <a href='vscode-notebook-cell://wsl%2Bubuntu/mnt/c/Users/aogueda/Documents/git/math689_computational_learning_and_discovery/assignments/midterm.ipynb#X44sdnNjb2RlLXJlbW90ZQ%3D%3D?line=14'>15</a>\u001b[0m hidden, output \u001b[39m=\u001b[39m forward(x, W_hidden, bias_hidden, W_output, bias_output)\n\u001b[1;32m     <a href='vscode-notebook-cell://wsl%2Bubuntu/mnt/c/Users/aogueda/Documents/git/math689_computational_learning_and_discovery/assignments/midterm.ipynb#X44sdnNjb2RlLXJlbW90ZQ%3D%3D?line=15'>16</a>\u001b[0m \u001b[39m# W_hidden_copy = np.copy(W_hidden)\u001b[39;00m\n\u001b[1;32m     <a href='vscode-notebook-cell://wsl%2Bubuntu/mnt/c/Users/aogueda/Documents/git/math689_computational_learning_and_discovery/assignments/midterm.ipynb#X44sdnNjb2RlLXJlbW90ZQ%3D%3D?line=16'>17</a>\u001b[0m \u001b[39m# bias_hidden_copy = np.copy(bias_hidden)\u001b[39;00m\n\u001b[1;32m     <a href='vscode-notebook-cell://wsl%2Bubuntu/mnt/c/Users/aogueda/Documents/git/math689_computational_learning_and_discovery/assignments/midterm.ipynb#X44sdnNjb2RlLXJlbW90ZQ%3D%3D?line=17'>18</a>\u001b[0m \u001b[39m# W_output_copy = np.copy(W_output)\u001b[39;00m\n\u001b[1;32m     <a href='vscode-notebook-cell://wsl%2Bubuntu/mnt/c/Users/aogueda/Documents/git/math689_computational_learning_and_discovery/assignments/midterm.ipynb#X44sdnNjb2RlLXJlbW90ZQ%3D%3D?line=18'>19</a>\u001b[0m \u001b[39m# bias_output_copy = np.copy(bias_output)\u001b[39;00m\n\u001b[0;32m---> <a href='vscode-notebook-cell://wsl%2Bubuntu/mnt/c/Users/aogueda/Documents/git/math689_computational_learning_and_discovery/assignments/midterm.ipynb#X44sdnNjb2RlLXJlbW90ZQ%3D%3D?line=19'>20</a>\u001b[0m W_hidden, bias_hidden, W_output, bias_output \u001b[39m=\u001b[39m backward(x, target, W_hidden, bias_hidden, W_output, bias_output, hidden, output, eta)\n",
      "\u001b[0;31mKeyboardInterrupt\u001b[0m: "
     ]
    }
   ],
   "source": [
    "# Initialization\n",
    "W_hidden = np.random.uniform(init_min, init_max, size=(n_hidden, n_feature))\n",
    "bias_hidden = np.random.uniform(init_min, init_max, size=(n_hidden, 1))\n",
    "W_output = np.random.uniform(init_min, init_max, size=(n_output, n_hidden))\n",
    "bias_output = np.random.uniform(init_min, init_max, size=(n_output, 1))\n",
    "# Iteration\n",
    "# for i in range(X_train.shape[0]):\n",
    "n_iterations = 10000000\n",
    "for j in range(n_iterations):\n",
    "    i = j % n_feature\n",
    "    if not j % 100000:\n",
    "        print(f\"Iteration: {j}\")\n",
    "    x = X_train[i:i + 1, :].T\n",
    "    target = y_train_encoded[i:i + 1, :].T\n",
    "    hidden, output = forward(x, W_hidden, bias_hidden, W_output, bias_output)\n",
    "    # W_hidden_copy = np.copy(W_hidden)\n",
    "    # bias_hidden_copy = np.copy(bias_hidden)\n",
    "    # W_output_copy = np.copy(W_output)\n",
    "    # bias_output_copy = np.copy(bias_output)\n",
    "    W_hidden, bias_hidden, W_output, bias_output = backward(x, target, W_hidden, bias_hidden, W_output, bias_output, hidden, output, eta)"
   ]
  },
  {
   "cell_type": "code",
   "execution_count": null,
   "metadata": {},
   "outputs": [],
   "source": [
    "# np.abs(W_hidden - W_hidden_copy).sum()"
   ]
  },
  {
   "cell_type": "code",
   "execution_count": null,
   "metadata": {},
   "outputs": [],
   "source": [
    "y_pred = np.empty(shape=y_test.shape)\n",
    "for i in range(X_test.shape[0]):\n",
    "    _, pred = forward(X_test[i:i + 1, :].T, W_hidden, bias_hidden, W_output, bias_output)\n",
    "    y_pred[i] = pred.argmax()"
   ]
  },
  {
   "cell_type": "code",
   "execution_count": null,
   "metadata": {},
   "outputs": [
    {
     "name": "stdout",
     "output_type": "stream",
     "text": [
      "Accuracy was 82.91% and with approximately 95% probability the true error lies in the interval [0.8217, 0.8365]\n"
     ]
    }
   ],
   "source": [
    "n = y_pred.size\n",
    "error_h = sum(y_pred == y_test) / n\n",
    "sigma = np.sqrt(error_h * (1 - error_h) / n)\n",
    "print(f\"Accuracy was {error_h:.2%} and with approximately 95% probability the true error lies in the interval [{error_h - 1.96 * sigma:.4f}, {error_h + 1.96 * sigma:.4f}]\")"
   ]
  },
  {
   "cell_type": "code",
   "execution_count": null,
   "metadata": {},
   "outputs": [],
   "source": [
    "# # Confusion matrix\n",
    "# fig, ax = plt.subplots(figsize=(6, 6))\n",
    "# ConfusionMatrixDisplay.from_predictions(\n",
    "#     y_test,\n",
    "#     y_pred,\n",
    "#     ax=ax\n",
    "# )\n",
    "# fig.tight_layout()\n",
    "# # fig.savefig(f\"belief_confusion_matrix_fulldata_{flag_full_dataset}.png\", dpi=300)\n",
    "# fig.show()"
   ]
  },
  {
   "cell_type": "code",
   "execution_count": null,
   "metadata": {},
   "outputs": [
    {
     "name": "stderr",
     "output_type": "stream",
     "text": [
      "/tmp/ipykernel_19298/1490769250.py:12: UserWarning: Matplotlib is currently using module://matplotlib_inline.backend_inline, which is a non-GUI backend, so cannot show the figure.\n",
      "  fig.show()\n"
     ]
    },
    {
     "data": {
      "image/png": "[encoded data removed]",
      "text/plain": [
       "<Figure size 700x700 with 2 Axes>"
      ]
     },
     "metadata": {},
     "output_type": "display_data"
    }
   ],
   "source": [
    "# Confusion matrix - row normalization\n",
    "fig, ax = plt.subplots(figsize=(7, 7))\n",
    "ConfusionMatrixDisplay.from_predictions(\n",
    "    y_test,\n",
    "    y_pred,\n",
    "    normalize=\"true\",\n",
    "    values_format=\".2f\",\n",
    "    ax=ax\n",
    ")\n",
    "fig.tight_layout()\n",
    "# fig.savefig(f\"belief_confusion_matrix_row_normalize_fulldata_{flag_full_dataset}.png\", dpi=300)\n",
    "fig.show()"
   ]
  }
 ],
 "metadata": {
  "kernelspec": {
   "display_name": "pinn",
   "language": "python",
   "name": "python3"
  },
  "language_info": {
   "codemirror_mode": {
    "name": "ipython",
    "version": 3
   },
   "file_extension": ".py",
   "mimetype": "text/x-python",
   "name": "python",
   "nbconvert_exporter": "python",
   "pygments_lexer": "ipython3",
   "version": "3.10.9"
  }
 },
 "nbformat": 4,
 "nbformat_minor": 2
}
