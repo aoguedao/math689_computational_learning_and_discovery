{
 "cells": [
  {
   "cell_type": "markdown",
   "metadata": {},
   "source": [
    "# Computational Learning and Discovery - HW03"
   ]
  },
  {
   "cell_type": "code",
   "execution_count": 1,
   "metadata": {},
   "outputs": [],
   "source": [
    "import numpy as np"
   ]
  },
  {
   "cell_type": "code",
   "execution_count": 2,
   "metadata": {},
   "outputs": [],
   "source": [
    "def sigmoid(x):\n",
    "    return 1 / (1 + np.exp(-x))"
   ]
  },
  {
   "cell_type": "code",
   "execution_count": 3,
   "metadata": {},
   "outputs": [],
   "source": [
    "eta = 0.3\n",
    "alpha = 0.9"
   ]
  },
  {
   "cell_type": "markdown",
   "metadata": {},
   "source": [
    "n = 0"
   ]
  },
  {
   "cell_type": "code",
   "execution_count": 4,
   "metadata": {},
   "outputs": [],
   "source": [
    "w_ca = 0.1\n",
    "w_cb = 0.1\n",
    "w_c0 = 0.1\n",
    "w_dc = 0.1\n",
    "w_d0 = 0.1"
   ]
  },
  {
   "cell_type": "markdown",
   "metadata": {},
   "source": [
    "n = 1"
   ]
  },
  {
   "cell_type": "code",
   "execution_count": 5,
   "metadata": {},
   "outputs": [],
   "source": [
    "a = 1\n",
    "b = 0\n",
    "d = 1"
   ]
  },
  {
   "cell_type": "markdown",
   "metadata": {},
   "source": [
    "Propagate input forward"
   ]
  },
  {
   "cell_type": "code",
   "execution_count": 6,
   "metadata": {},
   "outputs": [
    {
     "name": "stdout",
     "output_type": "stream",
     "text": [
      "2\n",
      "0.8807970779778825\n",
      "1.8807970779778826\n",
      "0.8677026536525568\n"
     ]
    }
   ],
   "source": [
    "net_c = w_ca * a + w_cb * b + w_c0\n",
    "output_c = sigmoid(net_c)\n",
    "net_d = w_dc * output_c + w_d0\n",
    "output_d = sigmoid(net_d)\n",
    "\n",
    "print(net_c)\n",
    "print(output_c)\n",
    "print(net_d)\n",
    "print(output_d)"
   ]
  },
  {
   "cell_type": "markdown",
   "metadata": {},
   "source": [
    "Propagate errors backward"
   ]
  },
  {
   "cell_type": "code",
   "execution_count": 7,
   "metadata": {},
   "outputs": [
    {
     "name": "stdout",
     "output_type": "stream",
     "text": [
      "0.015187041923731218\n",
      "0.0015945419832459067\n"
     ]
    }
   ],
   "source": [
    "delta_d = output_d * (1 - output_d) * (d - output_d)\n",
    "delta_c = output_c * (1 - output_c) * w_dc * delta_d\n",
    "\n",
    "print(delta_d)\n",
    "print(delta_c)"
   ]
  },
  {
   "cell_type": "code",
   "execution_count": 8,
   "metadata": {},
   "outputs": [],
   "source": [
    "Dw_ca = eta * delta_c * a\n",
    "Dw_cb = eta * delta_c * b\n",
    "Dw_c0 = eta * delta_c\n",
    "Dw_dc = eta * delta_d * output_c\n",
    "Dw_d0 = eta * delta_d"
   ]
  },
  {
   "cell_type": "code",
   "execution_count": 9,
   "metadata": {},
   "outputs": [
    {
     "name": "stdout",
     "output_type": "stream",
     "text": [
      "1.0004783625949738\n",
      "1.0\n",
      "1.0004783625949738\n",
      "1.004013010644865\n",
      "1.0045561125771194\n"
     ]
    }
   ],
   "source": [
    "w_ca += Dw_ca\n",
    "w_cb += Dw_cb\n",
    "w_c0 += Dw_c0\n",
    "w_dc += Dw_dc\n",
    "w_d0 += Dw_d0\n",
    "\n",
    "print(w_ca)\n",
    "print(w_cb)\n",
    "print(w_c0)\n",
    "print(w_dc)\n",
    "print(w_d0)"
   ]
  },
  {
   "cell_type": "markdown",
   "metadata": {},
   "source": [
    "n = 2"
   ]
  },
  {
   "cell_type": "code",
   "execution_count": 10,
   "metadata": {},
   "outputs": [],
   "source": [
    "a = 0\n",
    "b = 1\n",
    "d = 0"
   ]
  },
  {
   "cell_type": "markdown",
   "metadata": {},
   "source": [
    "Propagate input forward"
   ]
  },
  {
   "cell_type": "code",
   "execution_count": 11,
   "metadata": {},
   "outputs": [
    {
     "name": "stdout",
     "output_type": "stream",
     "text": [
      "2.000478362594974\n",
      "0.8808472938336201\n",
      "1.8889382559773944\n",
      "0.8686344237841059\n"
     ]
    }
   ],
   "source": [
    "net_c = w_ca * a + w_cb * b + w_c0\n",
    "output_c = sigmoid(net_c)\n",
    "net_d = w_dc * output_c + w_d0\n",
    "output_d = sigmoid(net_d)\n",
    "\n",
    "print(net_c)\n",
    "print(output_c)\n",
    "print(net_d)\n",
    "print(output_d)"
   ]
  },
  {
   "cell_type": "markdown",
   "metadata": {},
   "source": [
    "Propagate errors backward"
   ]
  },
  {
   "cell_type": "code",
   "execution_count": 12,
   "metadata": {},
   "outputs": [
    {
     "name": "stdout",
     "output_type": "stream",
     "text": [
      "-0.09911871151887305\n",
      "-0.010444785448881264\n"
     ]
    }
   ],
   "source": [
    "delta_d = output_d * (1 - output_d) * (d - output_d)\n",
    "delta_c = output_c * (1 - output_c) * w_dc * delta_d\n",
    "print(delta_d)\n",
    "print(delta_c)"
   ]
  },
  {
   "cell_type": "code",
   "execution_count": 13,
   "metadata": {},
   "outputs": [],
   "source": [
    "Dw_ca = eta * delta_c * a + alpha * Dw_ca\n",
    "Dw_cb = eta * delta_c * b + alpha * Dw_cb\n",
    "Dw_c0 = eta * delta_c + alpha * Dw_c0\n",
    "Dw_dc = eta * delta_d * output_c + alpha * Dw_dc\n",
    "Dw_d0 = eta * delta_d + alpha * Dw_d0"
   ]
  },
  {
   "cell_type": "code",
   "execution_count": 14,
   "metadata": {},
   "outputs": [
    {
     "name": "stdout",
     "output_type": "stream",
     "text": [
      "1.0009088889304503\n",
      "0.9968665643653356\n",
      "0.9977754532957858\n",
      "0.9814321855823411\n",
      "0.9789210004408649\n"
     ]
    }
   ],
   "source": [
    "w_ca += Dw_ca\n",
    "w_cb += Dw_cb\n",
    "w_c0 += Dw_c0\n",
    "w_dc += Dw_dc\n",
    "w_d0 += Dw_d0\n",
    "\n",
    "print(w_ca)\n",
    "print(w_cb)\n",
    "print(w_c0)\n",
    "print(w_dc)\n",
    "print(w_d0)"
   ]
  }
 ],
 "metadata": {
  "kernelspec": {
   "display_name": "pinn",
   "language": "python",
   "name": "python3"
  },
  "language_info": {
   "codemirror_mode": {
    "name": "ipython",
    "version": 3
   },
   "file_extension": ".py",
   "mimetype": "text/x-python",
   "name": "python",
   "nbconvert_exporter": "python",
   "pygments_lexer": "ipython3",
   "version": "3.10.9"
  },
  "orig_nbformat": 4
 },
 "nbformat": 4,
 "nbformat_minor": 2
}
