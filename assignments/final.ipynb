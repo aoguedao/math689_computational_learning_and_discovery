{
 "cells": [
  {
   "cell_type": "markdown",
   "metadata": {},
   "source": [
    "# Final"
   ]
  },
  {
   "cell_type": "code",
   "execution_count": 1,
   "metadata": {},
   "outputs": [],
   "source": [
    "import secrets\n",
    "import numpy as np\n",
    "import pandas as pd\n",
    "import matplotlib.pyplot as plt\n",
    "import seaborn as sns\n",
    "\n",
    "from pathlib import Path\n",
    "from itertools import combinations\n",
    "from sklearn.metrics import ConfusionMatrixDisplay\n",
    "from sklearn.metrics.pairwise import euclidean_distances\n",
    "from cvxopt import matrix, solvers\n",
    "\n",
    "solvers.options['show_progress'] = False\n",
    "sns.set_context(\"paper\")"
   ]
  },
  {
   "cell_type": "code",
   "execution_count": 2,
   "metadata": {},
   "outputs": [],
   "source": [
    "data_path = Path().resolve().parent / \"data\""
   ]
  },
  {
   "cell_type": "code",
   "execution_count": 3,
   "metadata": {},
   "outputs": [],
   "source": [
    "# Random seed for reproducibility\n",
    "# secrets.randbits(128) # 208905213533139122735706682150229709525\n",
    "rng = np.random.default_rng(208905213533139122735706682150229709525)"
   ]
  },
  {
   "cell_type": "code",
   "execution_count": 4,
   "metadata": {},
   "outputs": [],
   "source": [
    "def get_data(data_path, labels, n_train_label, n_test_label, rng):\n",
    "    \"\"\"\n",
    "    Returns train and test data for some labels.\n",
    "\n",
    "    Parameters\n",
    "    ----------\n",
    "\n",
    "    data_path: pathlib.PosixPath\n",
    "        Path of datasets\n",
    "\n",
    "    labels: list\n",
    "        Digits from MNIST set\n",
    "\n",
    "    n_train_label: int\n",
    "        Number of train samples for each label\n",
    "\n",
    "    n_test_label: int\n",
    "        Number of test samples for each label\n",
    "\n",
    "    rng: numpy.random._generator.Generator\n",
    "        Seed for reproducibility\n",
    "\n",
    "    Returns\n",
    "    -------\n",
    "    tuple of np.array\n",
    "        X_train, y_train, X_test, y_test\n",
    "\n",
    "    \"\"\"\n",
    "    train_list = []  # Auxiliary list of train datasets\n",
    "    for f_train in data_path.glob(\"train*.txt\"):\n",
    "        if f_train.stem.removeprefix(\"train\") not in map(str, labels):\n",
    "            continue\n",
    "        raw_train = np.loadtxt(f_train)\n",
    "        if n_train_label is not None:\n",
    "            indices_train = rng.choice(raw_train.shape[0], n_train_label, replace=False)\n",
    "            raw_train = raw_train[indices_train, :]\n",
    "        target_train = raw_train[:, [0]]  # Target values, i.e. digit\n",
    "        features_train = raw_train[:, 1:] / 255\n",
    "        train_list.append(np.hstack((target_train, features_train)))\n",
    "    train_data = np.vstack(train_list)  # Concatenate train datasets\n",
    "\n",
    "    test_list = []\n",
    "    for f_test in data_path.glob(\"test*.txt\"):\n",
    "        if f_test.stem.removeprefix(\"test\") not in map(str, labels):\n",
    "            continue\n",
    "        raw_test = np.loadtxt(f_test)\n",
    "        if n_test_label is not None:\n",
    "            indices_test = rng.choice(raw_test.shape[0], n_test_label, replace=False)\n",
    "            raw_test = raw_test[indices_test, :]\n",
    "        target_test = raw_test[:, [0]]\n",
    "        features_test = raw_test[:, 1:] / 255\n",
    "        test_list.append(np.hstack((target_test, features_test)))\n",
    "    test_data = np.vstack(test_list)\n",
    "    X_train = train_data[:, 1:]\n",
    "    y_train = train_data[:, 0].astype(int)\n",
    "    X_test = test_data[:, 1:]\n",
    "    y_test = test_data[:, 0].astype(int)\n",
    "    return X_train, y_train, X_test, y_test"
   ]
  },
  {
   "cell_type": "code",
   "execution_count": 5,
   "metadata": {},
   "outputs": [],
   "source": [
    "def filter_data(X, y, labels):\n",
    "    mask = np.isin(y, labels)\n",
    "    X_new = X[mask, :]\n",
    "    y_new = y[mask]\n",
    "    return X_new, y_new"
   ]
  },
  {
   "cell_type": "markdown",
   "metadata": {},
   "source": [
    "1. SVM"
   ]
  },
  {
   "cell_type": "code",
   "execution_count": 6,
   "metadata": {},
   "outputs": [],
   "source": [
    "def radial_basis(X1, X2, gamma):\n",
    "    K = np.exp(-gamma * euclidean_distances(X1, X2, squared=True))\n",
    "    return K\n",
    "\n",
    "\n",
    "class SVM_binary():\n",
    "    def __init__(self, C, gamma):\n",
    "        self.C = C\n",
    "        self.gamma = gamma\n",
    "\n",
    "    def train(self, X_train, y_train):\n",
    "        n_train = X_train.shape[0]\n",
    "        self.X_train = X_train\n",
    "        self.y_train = y_train\n",
    "        K_train = radial_basis(X_train, X_train, self.gamma)\n",
    "        M = matrix(np.outer(y_train, y_train) * K_train)  # Quadratic\n",
    "        e = matrix(np.ones(shape=(n_train, 1), dtype=float))  # Linear\n",
    "        G = matrix(np.identity(n=n_train, dtype=float))  # Inequality constraint\n",
    "        h = matrix(self.C * e)  # RHS inequality constraint\n",
    "        A = matrix(y_train.reshape(1, -1).astype(float))  # Equality constraint\n",
    "        b = matrix(0.0)  # RHS equality constraint\n",
    "        self.sol = solvers.qp(M, e, G, h, A, b)  # Quadratic solver\n",
    "        self.alpha = np.array(self.sol[\"x\"]).flatten()\n",
    "        self.I = np.argwhere(self.alpha > 0).flatten()\n",
    "        alpha_b_idx = self.alpha[(0 < self.alpha) & (self.alpha < self.C)].argmin()\n",
    "        # aux = self.alpha[(0 < self.alpha) & (self.alpha < self.C)]\n",
    "        # aux_argmin = np.abs(aux - aux.mean()).argmin()\n",
    "        # alpha_b_idx = np.argwhere(self.alpha == aux[aux_argmin])[0, 0]\n",
    "        self.b = (\n",
    "            np.sum(\n",
    "                y_train[self.I] *  self.alpha[self.I] * K_train[self.I, alpha_b_idx]\n",
    "            )\n",
    "            - y_train[alpha_b_idx]\n",
    "        )\n",
    "\n",
    "    def predict(self, X_test):\n",
    "        n_test = X_test.shape[0]\n",
    "        K_test = radial_basis(self.X_train, X_test, self.gamma)\n",
    "        class_number = (\n",
    "            np.sum(\n",
    "                self.y_train[self.I, np.newaxis]\n",
    "                * self.alpha[self.I, np.newaxis]\n",
    "                * K_test[self.I, :],\n",
    "                axis=0\n",
    "            )\n",
    "            - self.b * np.ones(shape=(n_test))\n",
    "        )\n",
    "        y_pred = np.where(class_number > 0, 1, -1)\n",
    "        return y_pred\n",
    "\n",
    "    def accuracy(self, X_test, y_test):\n",
    "        y_pred = self.predict(X_test)\n",
    "        return np.mean(y_pred == y_test)"
   ]
  },
  {
   "cell_type": "code",
   "execution_count": 7,
   "metadata": {},
   "outputs": [],
   "source": [
    "gamma = 0.03\n",
    "C = 100"
   ]
  },
  {
   "cell_type": "markdown",
   "metadata": {},
   "source": [
    "2. Classification 3 vs 6"
   ]
  },
  {
   "cell_type": "code",
   "execution_count": 8,
   "metadata": {},
   "outputs": [],
   "source": [
    "labels = np.array([3, 6])\n",
    "n_train_label = 500\n",
    "n_test_label = 500\n",
    "X_train_36, y_train_36, X_test_36, y_test_36 = get_data(\n",
    "    data_path,\n",
    "    labels,\n",
    "    n_train_label,\n",
    "    n_test_label,\n",
    "    rng\n",
    ")\n",
    "min_label = np.min(labels)\n",
    "y_train_bin_36 = np.where(y_train_36 == min_label, -1, 1)  # y_i \\in {-1, 1}\n",
    "y_test_bin_36 = np.where(y_test_36 == min_label, -1, 1)  # y_i \\in {-1, 1}"
   ]
  },
  {
   "cell_type": "code",
   "execution_count": 9,
   "metadata": {},
   "outputs": [],
   "source": [
    "svm_36 = SVM_binary(C=C, gamma=gamma)\n",
    "svm_36.train(X_train_36, y_train_bin_36)"
   ]
  },
  {
   "cell_type": "markdown",
   "metadata": {},
   "source": [
    "3. Accuracy 3 vs 6"
   ]
  },
  {
   "cell_type": "code",
   "execution_count": 10,
   "metadata": {},
   "outputs": [
    {
     "data": {
      "text/plain": [
       "0.978"
      ]
     },
     "execution_count": 10,
     "metadata": {},
     "output_type": "execute_result"
    }
   ],
   "source": [
    "svm_36.accuracy(X_test_36, y_test_bin_36)"
   ]
  },
  {
   "cell_type": "markdown",
   "metadata": {},
   "source": [
    "4. Reduction of training examples"
   ]
  },
  {
   "cell_type": "code",
   "execution_count": 11,
   "metadata": {},
   "outputs": [],
   "source": [
    "factors = [0.75, 0.90, 0.95]\n",
    "n_train = X_train_36.shape[0]"
   ]
  },
  {
   "cell_type": "code",
   "execution_count": 12,
   "metadata": {},
   "outputs": [
    {
     "name": "stdout",
     "output_type": "stream",
     "text": [
      "Factor 0.95 Error: attempt to get argmin of an empty sequence\n"
     ]
    }
   ],
   "source": [
    "test_accuracy_36 = {}\n",
    "for factor in factors:\n",
    "    n_per_label = int((n_train - n_train * factor) / len(labels))\n",
    "    X_train_tmp_list = []\n",
    "    y_train_tmp_list = []\n",
    "    for label in labels:\n",
    "        mask_train = y_train_36 == label\n",
    "        y_train_tmp = y_train_36[mask_train]\n",
    "        X_train_tmp = X_train_36[mask_train, :]\n",
    "        idx = rng.choice(y_train_tmp.shape[0], n_per_label, replace=False)\n",
    "        X_train_tmp_list.append(X_train_tmp[idx, :])\n",
    "        y_train_tmp_list.append(y_train_tmp[idx])\n",
    "    X_train = np.vstack(X_train_tmp_list)\n",
    "    y_train = np.concatenate(y_train_tmp_list)\n",
    "    y_train_bin = np.where(y_train == min_label, -1, 1)\n",
    "    y_test_bin = np.where(y_test_36 == min_label, -1, 1)\n",
    "    try:\n",
    "        svm = SVM_binary(C=C, gamma=gamma)\n",
    "        svm.train(X_train, y_train_bin)\n",
    "        test_accuracy_36[factor] = svm.accuracy(X_test_36, y_test_bin)\n",
    "    except Exception as e:\n",
    "        print(f\"Factor {factor} Error: {e}\")"
   ]
  },
  {
   "cell_type": "code",
   "execution_count": 13,
   "metadata": {},
   "outputs": [
    {
     "data": {
      "text/plain": [
       "{0.75: 0.501, 0.9: 0.5}"
      ]
     },
     "execution_count": 13,
     "metadata": {},
     "output_type": "execute_result"
    }
   ],
   "source": [
    "test_accuracy_36"
   ]
  },
  {
   "cell_type": "markdown",
   "metadata": {},
   "source": [
    "5. Reduction of pixeles uniformly"
   ]
  },
  {
   "cell_type": "code",
   "execution_count": 14,
   "metadata": {},
   "outputs": [],
   "source": [
    "n_features = X_train_36.shape[1]\n",
    "test_accuracy_pixel_36 = {}\n",
    "for factor in factors:\n",
    "    n_features_new = int(n_features * (1 - factor))\n",
    "    idx = np.linspace(0, n_features, num=n_features_new, endpoint=False, dtype=int)\n",
    "    svm = SVM_binary(C=C, gamma=gamma)\n",
    "    svm.train(X_train_36[:, idx], y_train_bin_36)\n",
    "    test_accuracy_pixel_36[factor] = svm.accuracy(X_test_36[:, idx], y_test_bin_36)"
   ]
  },
  {
   "cell_type": "code",
   "execution_count": 15,
   "metadata": {},
   "outputs": [
    {
     "data": {
      "text/plain": [
       "{0.75: 0.961, 0.9: 0.819, 0.95: 0.756}"
      ]
     },
     "execution_count": 15,
     "metadata": {},
     "output_type": "execute_result"
    }
   ],
   "source": [
    "test_accuracy_pixel_36"
   ]
  },
  {
   "cell_type": "markdown",
   "metadata": {},
   "source": [
    "6. SVD"
   ]
  },
  {
   "cell_type": "code",
   "execution_count": 16,
   "metadata": {},
   "outputs": [],
   "source": [
    "def svd(X):\n",
    "    n_train, n_features = X.shape\n",
    "    U, D_array, Vh = np.linalg.svd(X, full_matrices=True)\n",
    "    n_singular = len(D_array)\n",
    "    D = np.zeros(shape=(n_train, n_features))\n",
    "    D[:n_singular, :n_singular] = np.diag(D_array)\n",
    "    return U, D, Vh"
   ]
  },
  {
   "cell_type": "code",
   "execution_count": 17,
   "metadata": {},
   "outputs": [],
   "source": [
    "n_features = X_train_36.shape[1]\n",
    "U_36, D_36, Vh_36 = svd(X_train_36)\n",
    "test_accuracy_svd_36 = {}\n",
    "for factor in factors:\n",
    "    n_features_new = int(n_features * (1 - factor))\n",
    "    X_train = U_36 @ D_36[:, :n_features_new]\n",
    "    X_test = X_test_36 @ Vh_36.conj().T[:, :n_features_new]\n",
    "    svm = SVM_binary(C=C, gamma=gamma)\n",
    "    svm.train(X_train, y_train_bin_36)\n",
    "    test_accuracy_svd_36[factor] = svm.accuracy(X_test, y_test_bin_36)"
   ]
  },
  {
   "cell_type": "code",
   "execution_count": 18,
   "metadata": {},
   "outputs": [
    {
     "data": {
      "text/plain": [
       "{0.75: 0.82, 0.9: 0.826, 0.95: 0.978}"
      ]
     },
     "execution_count": 18,
     "metadata": {},
     "output_type": "execute_result"
    }
   ],
   "source": [
    "test_accuracy_svd_36"
   ]
  },
  {
   "cell_type": "markdown",
   "metadata": {},
   "source": [
    "7. Even vs Odd"
   ]
  },
  {
   "cell_type": "code",
   "execution_count": 19,
   "metadata": {},
   "outputs": [],
   "source": [
    "labels_0to9 = np.arange(0, 10)\n",
    "X_train_0to9, y_train_0to9, X_test_0to9, y_test_0to9 = get_data(\n",
    "    data_path,\n",
    "    labels_0to9,\n",
    "    100,\n",
    "    100,\n",
    "    rng\n",
    ")\n",
    "y_train_0to9_even_odd = np.where(y_train_0to9 % 2 == 0, -1, 1)  # even = -1, odd = 1\n",
    "y_test_0to9_even_odd = np.where(y_test_0to9 & 2 == 0, -1, 1)"
   ]
  },
  {
   "cell_type": "code",
   "execution_count": 20,
   "metadata": {},
   "outputs": [
    {
     "data": {
      "text/plain": [
       "0.531"
      ]
     },
     "execution_count": 20,
     "metadata": {},
     "output_type": "execute_result"
    }
   ],
   "source": [
    "svm_0to9_even_odd = SVM_binary(C=C, gamma=gamma)\n",
    "svm_0to9_even_odd.train(X_train_0to9, y_train_0to9_even_odd)\n",
    "svm_0to9_even_odd.accuracy(X_test_0to9, y_test_0to9_even_odd)"
   ]
  },
  {
   "cell_type": "markdown",
   "metadata": {},
   "source": [
    "8. one vs the rest"
   ]
  },
  {
   "cell_type": "code",
   "execution_count": 21,
   "metadata": {},
   "outputs": [
    {
     "data": {
      "text/plain": [
       "{0: 0.9,\n",
       " 1: 0.945,\n",
       " 2: 0.264,\n",
       " 3: 0.73,\n",
       " 4: 0.872,\n",
       " 5: 0.167,\n",
       " 6: 0.906,\n",
       " 7: 0.871,\n",
       " 8: 0.899,\n",
       " 9: 0.155}"
      ]
     },
     "execution_count": 21,
     "metadata": {},
     "output_type": "execute_result"
    }
   ],
   "source": [
    "test_accuracy_one_vs_rest = {}\n",
    "for target in labels_0to9:\n",
    "    y_train_bin_target = np.where(y_train_0to9 == target, 1, -1)\n",
    "    y_test_bin_target = np.where(y_test_0to9 == target, 1, -1)\n",
    "    svm = SVM_binary(C=C, gamma=gamma)\n",
    "    svm.train(X_train_0to9, y_train_bin_target)\n",
    "    test_accuracy_one_vs_rest[target] = svm.accuracy(X_test_0to9, y_test_bin_target)\n",
    "test_accuracy_one_vs_rest"
   ]
  },
  {
   "cell_type": "markdown",
   "metadata": {},
   "source": [
    "9. Multiclass with classification number"
   ]
  },
  {
   "cell_type": "code",
   "execution_count": null,
   "metadata": {},
   "outputs": [],
   "source": []
  },
  {
   "cell_type": "markdown",
   "metadata": {},
   "source": [
    "10. Multiclass with voting"
   ]
  },
  {
   "cell_type": "code",
   "execution_count": 22,
   "metadata": {},
   "outputs": [],
   "source": [
    "labels_0to9 = np.arange(0, 10)\n",
    "X_train_0to9, y_train_0to9, X_test_0to9, y_test_0to9 = get_data(\n",
    "    data_path,\n",
    "    labels_0to9,\n",
    "    1000,\n",
    "    500,\n",
    "    rng\n",
    ")"
   ]
  },
  {
   "cell_type": "code",
   "execution_count": 23,
   "metadata": {},
   "outputs": [],
   "source": [
    "svm_pairs_pred = {}\n",
    "for label_1, label_2 in combinations(labels_0to9, 2):\n",
    "    map_dict = {label_1: -1, label_2: 1}\n",
    "    map_inv_dict = {v: k for k, v in map_dict.items()}\n",
    "    X_train, y_train = filter_data(X_train_0to9, y_train_0to9, [label_1, label_2])\n",
    "    y_train_bin = np.vectorize(map_dict.get)(y_train)\n",
    "    svm = SVM_binary(C=C, gamma=gamma)\n",
    "    svm.train(X_train, y_train_bin)\n",
    "    y_pred_bin = svm.predict(X_test_0to9)\n",
    "    y_pred = np.vectorize(map_inv_dict.get)(y_pred_bin)\n",
    "    svm_pairs_pred[(label_1, label_2)] = y_pred\n",
    "pair_pred_df = pd.DataFrame(svm_pairs_pred.values()).T\n",
    "# pair_pred_df"
   ]
  },
  {
   "cell_type": "code",
   "execution_count": 24,
   "metadata": {},
   "outputs": [
    {
     "data": {
      "text/plain": [
       "0.4902"
      ]
     },
     "execution_count": 24,
     "metadata": {},
     "output_type": "execute_result"
    }
   ],
   "source": [
    "y_pred_0to9_vote = pair_pred_df.mode(axis=1).loc[:, 0].astype(int).to_numpy()\n",
    "accuracy_vote = np.mean(y_test_0to9 == y_pred_0to9_vote)\n",
    "accuracy_vote"
   ]
  },
  {
   "cell_type": "code",
   "execution_count": 25,
   "metadata": {},
   "outputs": [
    {
     "data": {
      "image/png": "[encoded data removed]",
      "text/plain": [
       "<Figure size 600x600 with 1 Axes>"
      ]
     },
     "metadata": {},
     "output_type": "display_data"
    }
   ],
   "source": [
    "# Confusion matrix - row normalization\n",
    "fig, ax = plt.subplots(figsize=(6, 6))\n",
    "ConfusionMatrixDisplay.from_predictions(\n",
    "    y_test_0to9,\n",
    "    y_pred_0to9_vote,\n",
    "    normalize=\"true\",\n",
    "    values_format=\".2f\",\n",
    "    ax=ax\n",
    ")\n",
    "ax.images[0].colorbar.remove()\n",
    "ax.set_title(f\"Confusion matrix\")\n",
    "fig.tight_layout()\n",
    "# fig.savefig(\n",
    "    # f\"final_confusion_matrix_vote_fulldata.png\",\n",
    "    # dpi=300\n",
    "# )"
   ]
  },
  {
   "cell_type": "code",
   "execution_count": 29,
   "metadata": {},
   "outputs": [
    {
     "data": {
      "text/plain": [
       "0.522"
      ]
     },
     "execution_count": 29,
     "metadata": {},
     "output_type": "execute_result"
    }
   ],
   "source": [
    "n_features_new = 100\n",
    "svm_pairs_svd_pred = []\n",
    "for label_1, label_2 in combinations(labels_0to9, 2):\n",
    "    map_dict = {label_1: -1, label_2: 1}\n",
    "    map_inv_dict = {v: k for k, v in map_dict.items()}\n",
    "    X_train_tmp, y_train = filter_data(X_train_0to9, y_train_0to9, [label_1, label_2])\n",
    "    y_train_bin = np.vectorize(map_dict.get)(y_train)\n",
    "    # SVD\n",
    "    n_features = X_train_tmp.shape[1]\n",
    "    U, D, Vh = svd(X_train_tmp)\n",
    "    X_train = U @ D[:, :n_features_new]\n",
    "    X_test = X_test_0to9 @ Vh.conj().T[:, :n_features_new]\n",
    "    # SVM\n",
    "    svm = SVM_binary(C=C, gamma=gamma)\n",
    "    svm.train(X_train, y_train_bin)\n",
    "    y_pred_bin = svm.predict(X_test)\n",
    "    y_pred = np.vectorize(map_inv_dict.get)(y_pred_bin)\n",
    "    svm_pairs_svd_pred.append(y_pred)\n",
    "pair_svd_pred_df = pd.DataFrame(svm_pairs_svd_pred).T\n",
    "y_pred_0to9_svd_vote = pair_svd_pred_df.mode(axis=1).loc[:, 0].astype(int).to_numpy()\n",
    "accuracy_vote = np.mean(y_test_0to9 == y_pred_0to9_svd_vote)\n",
    "accuracy_vote"
   ]
  },
  {
   "cell_type": "code",
   "execution_count": 30,
   "metadata": {},
   "outputs": [
    {
     "data": {
      "image/png": "[encoded data removed]",
      "text/plain": [
       "<Figure size 600x600 with 1 Axes>"
      ]
     },
     "metadata": {},
     "output_type": "display_data"
    }
   ],
   "source": [
    "fig, ax = plt.subplots(figsize=(6, 6))\n",
    "ConfusionMatrixDisplay.from_predictions(\n",
    "    y_test_0to9,\n",
    "    y_pred_0to9_svd_vote,\n",
    "    normalize=\"true\",\n",
    "    values_format=\".2f\",\n",
    "    ax=ax\n",
    ")\n",
    "ax.images[0].colorbar.remove()\n",
    "ax.set_title(f\"Confusion matrix\")\n",
    "fig.tight_layout()"
   ]
  },
  {
   "cell_type": "code",
   "execution_count": 28,
   "metadata": {},
   "outputs": [],
   "source": [
    "# target = 2\n",
    "# test_accuracy_2_vs_others = {}\n",
    "# # pred_2_vs_others = {}\n",
    "# for label in labels_0to9:\n",
    "#     if label == target:\n",
    "#         continue\n",
    "#     mask_train = np.isin(y_train_0to9, [label, target])\n",
    "#     mask_test = np.isin(y_test_0to9, [label, target])\n",
    "#     X_train = X_train_0to9[mask_train, :]\n",
    "#     y_train = y_train_0to9[mask_train]\n",
    "#     X_test = X_test_0to9[mask_test, :]\n",
    "#     y_test = y_test_0to9[mask_test]\n",
    "#     y_train_bin = np.where(y_train == target, 1, -1)\n",
    "#     y_test_bin = np.where(y_test == target, 1, -1)\n",
    "#     svm = SVM_binary(C=C, gamma=gamma)\n",
    "#     svm.train(X_train, y_train_bin)\n",
    "#     test_accuracy_2_vs_others[label] = svm.accuracy(X_test, y_test_bin)\n",
    "# test_accuracy_2_vs_others"
   ]
  },
  {
   "cell_type": "code",
   "execution_count": null,
   "metadata": {},
   "outputs": [],
   "source": []
  }
 ],
 "metadata": {
  "jupytext": {
   "formats": "ipynb,py"
  },
  "kernelspec": {
   "display_name": "Python 3 (ipykernel)",
   "language": "python",
   "name": "python3"
  },
  "language_info": {
   "codemirror_mode": {
    "name": "ipython",
    "version": 3
   },
   "file_extension": ".py",
   "mimetype": "text/x-python",
   "name": "python",
   "nbconvert_exporter": "python",
   "pygments_lexer": "ipython3",
   "version": "3.11.6"
  }
 },
 "nbformat": 4,
 "nbformat_minor": 4
}
