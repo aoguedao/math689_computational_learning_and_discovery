{
 "cells": [
  {
   "cell_type": "markdown",
   "metadata": {},
   "source": [
    "# Final"
   ]
  },
  {
   "cell_type": "code",
   "execution_count": 1,
   "metadata": {},
   "outputs": [],
   "source": [
    "import secrets\n",
    "import numpy as np\n",
    "import pandas as pd\n",
    "import matplotlib.pyplot as plt\n",
    "import seaborn as sns\n",
    "\n",
    "from pathlib import Path\n",
    "from itertools import combinations\n",
    "from sklearn.metrics import ConfusionMatrixDisplay\n",
    "from sklearn.metrics.pairwise import euclidean_distances\n",
    "from cvxopt import matrix, solvers\n",
    "\n",
    "solvers.options['show_progress'] = False\n",
    "sns.set_context(\"paper\")"
   ]
  },
  {
   "cell_type": "code",
   "execution_count": 2,
   "metadata": {},
   "outputs": [],
   "source": [
    "data_path = Path().resolve().parent / \"data\""
   ]
  },
  {
   "cell_type": "code",
   "execution_count": 3,
   "metadata": {},
   "outputs": [],
   "source": [
    "# Random seed for reproducibility\n",
    "# secrets.randbits(128) # 208905213533139122735706682150229709525\n",
    "rng = np.random.default_rng(208905213533139122735706682150229709525)"
   ]
  },
  {
   "cell_type": "code",
   "execution_count": 4,
   "metadata": {},
   "outputs": [],
   "source": [
    "def get_data(data_path, labels, n_train_label, n_test_label, rng):\n",
    "    \"\"\"\n",
    "    Returns train and test data for some labels.\n",
    "\n",
    "    Parameters\n",
    "    ----------\n",
    "\n",
    "    data_path: pathlib.PosixPath\n",
    "        Path of datasets\n",
    "\n",
    "    labels: list\n",
    "        Digits from MNIST set\n",
    "\n",
    "    n_train_label: int\n",
    "        Number of train samples for each label\n",
    "\n",
    "    n_test_label: int\n",
    "        Number of test samples for each label\n",
    "\n",
    "    rng: numpy.random._generator.Generator\n",
    "        Seed for reproducibility\n",
    "\n",
    "    Returns\n",
    "    -------\n",
    "    tuple of np.array\n",
    "        X_train, y_train, X_test, y_test\n",
    "\n",
    "    \"\"\"\n",
    "    train_list = []  # Auxiliary list of train datasets\n",
    "    for f_train in data_path.glob(\"train*.txt\"):\n",
    "        if f_train.stem.removeprefix(\"train\") not in map(str, labels):\n",
    "            continue  # Skips labels\n",
    "        raw_train = np.loadtxt(f_train)\n",
    "        if n_train_label is not None:\n",
    "            # Sample\n",
    "            indices_train = rng.choice(raw_train.shape[0], n_train_label, replace=False)\n",
    "            raw_train = raw_train[indices_train, :]\n",
    "        target_train = raw_train[:, [0]]  # Target values, i.e. digit\n",
    "        features_train = raw_train[:, 1:] / 255\n",
    "        train_list.append(np.hstack((target_train, features_train)))\n",
    "    train_data = np.vstack(train_list)  # Concatenate train datasets\n",
    "\n",
    "    test_list = []\n",
    "    for f_test in data_path.glob(\"test*.txt\"):\n",
    "        if f_test.stem.removeprefix(\"test\") not in map(str, labels):\n",
    "            continue  # Skip labels\n",
    "        raw_test = np.loadtxt(f_test)\n",
    "        if n_test_label is not None:\n",
    "            # Sample\n",
    "            indices_test = rng.choice(raw_test.shape[0], n_test_label, replace=False)\n",
    "            raw_test = raw_test[indices_test, :]\n",
    "        target_test = raw_test[:, [0]]\n",
    "        features_test = raw_test[:, 1:] / 255\n",
    "        test_list.append(np.hstack((target_test, features_test)))\n",
    "    test_data = np.vstack(test_list)\n",
    "\n",
    "    X_train = train_data[:, 1:]\n",
    "    y_train = train_data[:, 0].astype(int)\n",
    "    X_test = test_data[:, 1:]\n",
    "    y_test = test_data[:, 0].astype(int)\n",
    "    return X_train, y_train, X_test, y_test"
   ]
  },
  {
   "cell_type": "code",
   "execution_count": 5,
   "metadata": {},
   "outputs": [],
   "source": [
    "def filter_data(X, y, labels):\n",
    "    mask = np.isin(y, labels)\n",
    "    X_new = X[mask, :]\n",
    "    y_new = y[mask]\n",
    "    return X_new, y_new"
   ]
  },
  {
   "cell_type": "markdown",
   "metadata": {},
   "source": [
    "1. SVM"
   ]
  },
  {
   "cell_type": "code",
   "execution_count": 6,
   "metadata": {},
   "outputs": [],
   "source": [
    "def radial_basis(X1, X2, gamma):\n",
    "    K = np.exp(-gamma * euclidean_distances(X1, X2, squared=True))\n",
    "    return K\n",
    "\n",
    "\n",
    "class SVM_binary():\n",
    "    def __init__(self, C, gamma):\n",
    "        self.C = C\n",
    "        self.gamma = gamma\n",
    "        self.X_train = None\n",
    "        self.y_train = None\n",
    "\n",
    "    def train(self, X_train, y_train):\n",
    "        n_train = X_train.shape[0]\n",
    "        self.X_train = X_train\n",
    "        self.y_train = y_train\n",
    "        K_train = radial_basis(self.X_train, self.X_train, self.gamma)\n",
    "        M = matrix(np.outer(self.y_train, self.y_train) * K_train)  # Quadratic\n",
    "        e = matrix(np.ones(shape=(n_train, 1), dtype=float))  # Linear\n",
    "        G = matrix(np.identity(n=n_train, dtype=float))  # Inequality constraint\n",
    "        h = matrix(self.C * e)  # RHS inequality constraint\n",
    "        A = matrix(self.y_train.reshape(1, -1).astype(float))  # Equality constraint\n",
    "        b = matrix(0.0)  # RHS equality constraint\n",
    "        self.sol = solvers.qp(M, -e, G, h, A, b)  # Quadratic solver\n",
    "        self.alpha = np.array(self.sol[\"x\"]).flatten()\n",
    "        self.I = np.argwhere(self.alpha > 0).flatten()\n",
    "        i_0_idx = self.alpha[(0 < self.alpha) & (self.alpha < self.C)].argmax()\n",
    "        self.b = (\n",
    "            np.sum(\n",
    "                self.y_train[self.I] *  self.alpha[self.I] * K_train[self.I, i_0_idx]\n",
    "            )\n",
    "            - self.y_train[i_0_idx]\n",
    "        )\n",
    "\n",
    "    def predict(self, X_test, return_class_number=False):\n",
    "        n_test = X_test.shape[0]\n",
    "        K_test = radial_basis(self.X_train, X_test, self.gamma)\n",
    "        class_number = (\n",
    "            np.sum(\n",
    "                self.y_train[self.I, np.newaxis]\n",
    "                * self.alpha[self.I, np.newaxis]\n",
    "                * K_test[self.I, :],\n",
    "                axis=0\n",
    "            )\n",
    "            - self.b * np.ones(shape=(n_test))\n",
    "        )\n",
    "        if return_class_number:\n",
    "            # Only return class number\n",
    "            return class_number\n",
    "        else:\n",
    "            y_pred = np.where(class_number > 0, 1, -1)\n",
    "            return y_pred\n",
    "\n",
    "    def accuracy(self, X_test, y_test):\n",
    "        y_pred = self.predict(X_test)\n",
    "        return np.mean(y_pred == y_test)"
   ]
  },
  {
   "cell_type": "code",
   "execution_count": 7,
   "metadata": {},
   "outputs": [],
   "source": [
    "gamma = 0.03\n",
    "C = 100"
   ]
  },
  {
   "cell_type": "markdown",
   "metadata": {},
   "source": [
    "2. Classification 3 vs 6"
   ]
  },
  {
   "cell_type": "code",
   "execution_count": 8,
   "metadata": {},
   "outputs": [],
   "source": [
    "labels_36 = np.array([3, 6])\n",
    "n_train_label = 500  # each label\n",
    "n_test_label = 500  # each label\n",
    "X_train_36, y_train_36, X_test_36, y_test_36 = get_data(\n",
    "    data_path,\n",
    "    labels_36,\n",
    "    n_train_label,\n",
    "    n_test_label,\n",
    "    rng\n",
    ")\n",
    "min_label = np.min(labels_36)\n",
    "y_train_bin_36 = np.where(y_train_36 == min_label, -1, 1)  # y_i \\in {-1, 1}\n",
    "y_test_bin_36 = np.where(y_test_36 == min_label, -1, 1)  # y_i \\in {-1, 1}"
   ]
  },
  {
   "cell_type": "code",
   "execution_count": 32,
   "metadata": {},
   "outputs": [],
   "source": [
    "svm_36 = SVM_binary(C=C, gamma=gamma)\n",
    "svm_36.train(X_train_36, y_train_bin_36)"
   ]
  },
  {
   "cell_type": "markdown",
   "metadata": {},
   "source": [
    "3. Accuracy 3 vs 6"
   ]
  },
  {
   "cell_type": "code",
   "execution_count": 33,
   "metadata": {},
   "outputs": [
    {
     "data": {
      "text/plain": [
       "0.784"
      ]
     },
     "execution_count": 33,
     "metadata": {},
     "output_type": "execute_result"
    }
   ],
   "source": [
    "svm_36.accuracy(X_test_36, y_test_bin_36)"
   ]
  },
  {
   "cell_type": "code",
   "execution_count": 35,
   "metadata": {},
   "outputs": [],
   "source": [
    "alpha = svm_36.alpha\n",
    "I = svm_36.I\n",
    "i_0_idx = svm_36.alpha[(0 < svm_36.alpha) & (svm_36.alpha < svm_36.C)].argmax()\n",
    "K_train = radial_basis(svm_36.X_train, svm_36.X_train, svm_36.gamma)\n",
    "b = (\n",
    "    np.sum(\n",
    "        svm_36.y_train[svm_36.I] *  svm_36.alpha[svm_36.I] * K_train[svm_36.I, i_0_idx]\n",
    "    )\n",
    "    - svm_36.y_train[i_0_idx]\n",
    ")"
   ]
  },
  {
   "cell_type": "code",
   "execution_count": 37,
   "metadata": {},
   "outputs": [
    {
     "name": "stdout",
     "output_type": "stream",
     "text": [
      "(634,)\n",
      "(634,)\n",
      "(634,)\n"
     ]
    }
   ],
   "source": [
    "print(svm_36.y_train[svm_36.I].shape)\n",
    "print(svm_36.alpha[svm_36.I].shape)\n",
    "print(K_train[I, I].shape)"
   ]
  },
  {
   "cell_type": "code",
   "execution_count": 67,
   "metadata": {},
   "outputs": [
    {
     "data": {
      "text/plain": [
       "6.226796712811028"
      ]
     },
     "execution_count": 67,
     "metadata": {},
     "output_type": "execute_result"
    }
   ],
   "source": [
    "((svm_36.y_train[svm_36.I] *  svm_36.alpha[svm_36.I] * K_train[np.ix_(I, I)]).sum(axis=1) - svm_36.y_train[svm_36.I]).max()\n"
   ]
  },
  {
   "cell_type": "markdown",
   "metadata": {},
   "source": [
    "4. Reduction of training examples"
   ]
  },
  {
   "cell_type": "code",
   "execution_count": 11,
   "metadata": {},
   "outputs": [],
   "source": [
    "factors = [0.75, 0.90, 0.95]\n",
    "n_train = X_train_36.shape[0]"
   ]
  },
  {
   "cell_type": "code",
   "execution_count": 12,
   "metadata": {},
   "outputs": [],
   "source": [
    "test_accuracy_36 = {}\n",
    "for factor in factors:\n",
    "    n_per_label = int((n_train - n_train * factor) / len(labels_36))\n",
    "    X_train_tmp_list = []\n",
    "    y_train_tmp_list = []\n",
    "    # Sample each label\n",
    "    for label in labels_36:\n",
    "        mask_train = y_train_36 == label\n",
    "        y_train_tmp = y_train_36[mask_train]\n",
    "        X_train_tmp = X_train_36[mask_train, :]\n",
    "        idx = rng.choice(y_train_tmp.shape[0], n_per_label, replace=False)\n",
    "        X_train_tmp_list.append(X_train_tmp[idx, :])\n",
    "        y_train_tmp_list.append(y_train_tmp[idx])\n",
    "    X_train = np.vstack(X_train_tmp_list)\n",
    "    y_train = np.concatenate(y_train_tmp_list)\n",
    "    y_train_bin = np.where(y_train == min_label, -1, 1)\n",
    "    y_test_bin = np.where(y_test_36 == min_label, -1, 1)\n",
    "    try:\n",
    "        svm = SVM_binary(C=C, gamma=gamma)\n",
    "        svm.train(X_train, y_train_bin)\n",
    "        test_accuracy_36[factor] = svm.accuracy(X_test_36, y_test_bin)\n",
    "    except Exception as e:\n",
    "        print(f\"Factor {factor} Error: {e}\")"
   ]
  },
  {
   "cell_type": "code",
   "execution_count": 13,
   "metadata": {},
   "outputs": [
    {
     "data": {
      "text/plain": [
       "{0.75: 0.974, 0.9: 0.979, 0.95: 0.982}"
      ]
     },
     "execution_count": 13,
     "metadata": {},
     "output_type": "execute_result"
    }
   ],
   "source": [
    "test_accuracy_36"
   ]
  },
  {
   "cell_type": "markdown",
   "metadata": {},
   "source": [
    "5. Reduction of pixeles uniformly"
   ]
  },
  {
   "cell_type": "code",
   "execution_count": 14,
   "metadata": {},
   "outputs": [],
   "source": [
    "n_features = X_train_36.shape[1]\n",
    "test_accuracy_pixel_36 = {}\n",
    "for factor in factors:\n",
    "    n_features_new = int(n_features * (1 - factor))  # Number of pixels\n",
    "    idx = np.linspace(0, n_features, num=n_features_new, endpoint=False, dtype=int)\n",
    "    svm = SVM_binary(C=C, gamma=gamma)\n",
    "    svm.train(X_train_36[:, idx], y_train_bin_36)\n",
    "    test_accuracy_pixel_36[factor] = svm.accuracy(X_test_36[:, idx], y_test_bin_36)"
   ]
  },
  {
   "cell_type": "code",
   "execution_count": 15,
   "metadata": {},
   "outputs": [
    {
     "data": {
      "text/plain": [
       "{0.75: 0.621, 0.9: 0.954, 0.95: 0.749}"
      ]
     },
     "execution_count": 15,
     "metadata": {},
     "output_type": "execute_result"
    }
   ],
   "source": [
    "test_accuracy_pixel_36"
   ]
  },
  {
   "cell_type": "markdown",
   "metadata": {},
   "source": [
    "6. SVD"
   ]
  },
  {
   "cell_type": "code",
   "execution_count": 16,
   "metadata": {},
   "outputs": [],
   "source": [
    "def svd(X):\n",
    "    n_train, n_features = X.shape\n",
    "    U, D_array, Vh = np.linalg.svd(X, full_matrices=True)\n",
    "    n_singular = len(D_array)\n",
    "    D = np.zeros(shape=(n_train, n_features))\n",
    "    D[:n_singular, :n_singular] = np.diag(D_array)\n",
    "    return U, D, Vh.conj().T"
   ]
  },
  {
   "cell_type": "code",
   "execution_count": 17,
   "metadata": {},
   "outputs": [],
   "source": [
    "n_features = X_train_36.shape[1]\n",
    "U_36, D_36, V_36 = svd(X_train_36)\n",
    "test_accuracy_svd_36 = {}\n",
    "for factor in factors:\n",
    "    n_features_new = int(n_features * (1 - factor))\n",
    "    X_train = U_36 @ D_36[:, :n_features_new]\n",
    "    X_test = X_test_36 @ V_36[:, :n_features_new]\n",
    "    svm = SVM_binary(C=C, gamma=gamma)\n",
    "    svm.train(X_train, y_train_bin_36)\n",
    "    test_accuracy_svd_36[factor] = svm.accuracy(X_test, y_test_bin_36)"
   ]
  },
  {
   "cell_type": "code",
   "execution_count": 18,
   "metadata": {},
   "outputs": [
    {
     "data": {
      "text/plain": [
       "{0.75: 0.883, 0.9: 0.938, 0.95: 0.938}"
      ]
     },
     "execution_count": 18,
     "metadata": {},
     "output_type": "execute_result"
    }
   ],
   "source": [
    "test_accuracy_svd_36"
   ]
  },
  {
   "cell_type": "markdown",
   "metadata": {},
   "source": [
    "7. Even vs Odd"
   ]
  },
  {
   "cell_type": "code",
   "execution_count": 19,
   "metadata": {},
   "outputs": [],
   "source": [
    "labels_0to9 = np.arange(0, 10)\n",
    "X_train_0to9, y_train_0to9, X_test_0to9, y_test_0to9 = get_data(\n",
    "    data_path,\n",
    "    labels_0to9,\n",
    "    100,\n",
    "    100,\n",
    "    rng\n",
    ")\n",
    "y_train_0to9_even_odd = np.where(y_train_0to9 % 2 == 0, -1, 1)  # even = -1, odd = 1\n",
    "y_test_0to9_even_odd = np.where(y_test_0to9 & 2 == 0, -1, 1)"
   ]
  },
  {
   "cell_type": "code",
   "execution_count": 20,
   "metadata": {},
   "outputs": [
    {
     "data": {
      "text/plain": [
       "0.533"
      ]
     },
     "execution_count": 20,
     "metadata": {},
     "output_type": "execute_result"
    }
   ],
   "source": [
    "svm_0to9_even_odd = SVM_binary(C=C, gamma=gamma)\n",
    "svm_0to9_even_odd.train(X_train_0to9, y_train_0to9_even_odd)\n",
    "svm_0to9_even_odd.accuracy(X_test_0to9, y_test_0to9_even_odd)"
   ]
  },
  {
   "cell_type": "markdown",
   "metadata": {},
   "source": [
    "8. one vs the rest"
   ]
  },
  {
   "cell_type": "code",
   "execution_count": 21,
   "metadata": {},
   "outputs": [
    {
     "data": {
      "text/plain": [
       "{0: 0.938,\n",
       " 1: 0.552,\n",
       " 2: 0.167,\n",
       " 3: 0.927,\n",
       " 4: 0.865,\n",
       " 5: 0.478,\n",
       " 6: 0.969,\n",
       " 7: 0.845,\n",
       " 8: 0.416,\n",
       " 9: 0.915}"
      ]
     },
     "execution_count": 21,
     "metadata": {},
     "output_type": "execute_result"
    }
   ],
   "source": [
    "test_accuracy_one_vs_rest = {}\n",
    "for label in labels_0to9:\n",
    "    y_train_bin_label = np.where(y_train_0to9 == label, 1, -1)\n",
    "    y_test_bin_label = np.where(y_test_0to9 == label, 1, -1)\n",
    "    svm = SVM_binary(C=C, gamma=gamma)\n",
    "    svm.train(X_train_0to9, y_train_bin_label)\n",
    "    test_accuracy_one_vs_rest[label] = svm.accuracy(X_test_0to9, y_test_bin_label)\n",
    "test_accuracy_one_vs_rest"
   ]
  },
  {
   "cell_type": "markdown",
   "metadata": {},
   "source": [
    "9. Multiclass with classification number"
   ]
  },
  {
   "cell_type": "code",
   "execution_count": 22,
   "metadata": {},
   "outputs": [],
   "source": [
    "svm_multi_pred_dict = {}\n",
    "svm_clas_numbers_dict = {}\n",
    "for label in labels_0to9:\n",
    "    y_train_0to9_bin_target = np.where(y_train_0to9 == label, 1, -1)\n",
    "    svm = SVM_binary(C=C, gamma=gamma)\n",
    "    svm.train(X_test_0to9, y_train_0to9_bin_target)\n",
    "    y_pred_bin = svm.predict(X_test_0to9)\n",
    "    class_numbers = svm.predict(X_test_0to9, return_class_number=True)\n",
    "    y_pred = np.where(y_pred_bin == 1, label, -1)\n",
    "    svm_multi_pred_dict[label] = y_pred\n",
    "    svm_clas_numbers_dict[label] = class_numbers"
   ]
  },
  {
   "cell_type": "code",
   "execution_count": 23,
   "metadata": {},
   "outputs": [],
   "source": [
    "svm_multi_pred = pd.DataFrame(svm_multi_pred_dict)\n",
    "svm_clas_numbers = pd.DataFrame(svm_clas_numbers_dict)\n",
    "# Select higher class number from positive hyper-planes\n",
    "y_pred_0to9_classnumber = (\n",
    "    np.where(\n",
    "        svm_multi_pred.ne(-1).to_numpy(),\n",
    "        svm_clas_numbers.to_numpy(),\n",
    "        -1e6\n",
    "    ).argmax(axis=1)\n",
    ")"
   ]
  },
  {
   "cell_type": "code",
   "execution_count": 24,
   "metadata": {},
   "outputs": [
    {
     "data": {
      "text/html": [
       "<div>\n",
       "<style scoped>\n",
       "    .dataframe tbody tr th:only-of-type {\n",
       "        vertical-align: middle;\n",
       "    }\n",
       "\n",
       "    .dataframe tbody tr th {\n",
       "        vertical-align: top;\n",
       "    }\n",
       "\n",
       "    .dataframe thead th {\n",
       "        text-align: right;\n",
       "    }\n",
       "</style>\n",
       "<table border=\"1\" class=\"dataframe\">\n",
       "  <thead>\n",
       "    <tr style=\"text-align: right;\">\n",
       "      <th></th>\n",
       "      <th>0</th>\n",
       "      <th>1</th>\n",
       "      <th>2</th>\n",
       "      <th>3</th>\n",
       "      <th>4</th>\n",
       "      <th>5</th>\n",
       "      <th>6</th>\n",
       "      <th>7</th>\n",
       "      <th>8</th>\n",
       "      <th>9</th>\n",
       "    </tr>\n",
       "  </thead>\n",
       "  <tbody>\n",
       "    <tr>\n",
       "      <th>0</th>\n",
       "      <td>0.985021</td>\n",
       "      <td>NaN</td>\n",
       "      <td>3.976391</td>\n",
       "      <td>NaN</td>\n",
       "      <td>NaN</td>\n",
       "      <td>NaN</td>\n",
       "      <td>0.972958</td>\n",
       "      <td>NaN</td>\n",
       "      <td>1.377870</td>\n",
       "      <td>NaN</td>\n",
       "    </tr>\n",
       "    <tr>\n",
       "      <th>1</th>\n",
       "      <td>1.034692</td>\n",
       "      <td>NaN</td>\n",
       "      <td>3.742860</td>\n",
       "      <td>NaN</td>\n",
       "      <td>NaN</td>\n",
       "      <td>NaN</td>\n",
       "      <td>1.056337</td>\n",
       "      <td>NaN</td>\n",
       "      <td>1.187662</td>\n",
       "      <td>NaN</td>\n",
       "    </tr>\n",
       "    <tr>\n",
       "      <th>2</th>\n",
       "      <td>1.088304</td>\n",
       "      <td>NaN</td>\n",
       "      <td>4.882386</td>\n",
       "      <td>0.613374</td>\n",
       "      <td>0.082628</td>\n",
       "      <td>NaN</td>\n",
       "      <td>1.763349</td>\n",
       "      <td>0.178699</td>\n",
       "      <td>2.474794</td>\n",
       "      <td>1.157234</td>\n",
       "    </tr>\n",
       "    <tr>\n",
       "      <th>3</th>\n",
       "      <td>0.536199</td>\n",
       "      <td>NaN</td>\n",
       "      <td>4.135992</td>\n",
       "      <td>NaN</td>\n",
       "      <td>NaN</td>\n",
       "      <td>NaN</td>\n",
       "      <td>1.413018</td>\n",
       "      <td>NaN</td>\n",
       "      <td>1.625601</td>\n",
       "      <td>0.307493</td>\n",
       "    </tr>\n",
       "    <tr>\n",
       "      <th>4</th>\n",
       "      <td>0.704954</td>\n",
       "      <td>NaN</td>\n",
       "      <td>4.518045</td>\n",
       "      <td>0.195103</td>\n",
       "      <td>NaN</td>\n",
       "      <td>NaN</td>\n",
       "      <td>1.409038</td>\n",
       "      <td>NaN</td>\n",
       "      <td>1.958347</td>\n",
       "      <td>0.545565</td>\n",
       "    </tr>\n",
       "    <tr>\n",
       "      <th>...</th>\n",
       "      <td>...</td>\n",
       "      <td>...</td>\n",
       "      <td>...</td>\n",
       "      <td>...</td>\n",
       "      <td>...</td>\n",
       "      <td>...</td>\n",
       "      <td>...</td>\n",
       "      <td>...</td>\n",
       "      <td>...</td>\n",
       "      <td>...</td>\n",
       "    </tr>\n",
       "    <tr>\n",
       "      <th>995</th>\n",
       "      <td>NaN</td>\n",
       "      <td>NaN</td>\n",
       "      <td>1.957325</td>\n",
       "      <td>NaN</td>\n",
       "      <td>NaN</td>\n",
       "      <td>NaN</td>\n",
       "      <td>NaN</td>\n",
       "      <td>NaN</td>\n",
       "      <td>NaN</td>\n",
       "      <td>1.068107</td>\n",
       "    </tr>\n",
       "    <tr>\n",
       "      <th>996</th>\n",
       "      <td>NaN</td>\n",
       "      <td>NaN</td>\n",
       "      <td>2.667305</td>\n",
       "      <td>NaN</td>\n",
       "      <td>NaN</td>\n",
       "      <td>NaN</td>\n",
       "      <td>NaN</td>\n",
       "      <td>NaN</td>\n",
       "      <td>NaN</td>\n",
       "      <td>1.022584</td>\n",
       "    </tr>\n",
       "    <tr>\n",
       "      <th>997</th>\n",
       "      <td>NaN</td>\n",
       "      <td>NaN</td>\n",
       "      <td>1.205663</td>\n",
       "      <td>NaN</td>\n",
       "      <td>NaN</td>\n",
       "      <td>NaN</td>\n",
       "      <td>NaN</td>\n",
       "      <td>NaN</td>\n",
       "      <td>NaN</td>\n",
       "      <td>0.140771</td>\n",
       "    </tr>\n",
       "    <tr>\n",
       "      <th>998</th>\n",
       "      <td>NaN</td>\n",
       "      <td>NaN</td>\n",
       "      <td>2.296295</td>\n",
       "      <td>NaN</td>\n",
       "      <td>NaN</td>\n",
       "      <td>NaN</td>\n",
       "      <td>NaN</td>\n",
       "      <td>NaN</td>\n",
       "      <td>0.349308</td>\n",
       "      <td>1.142637</td>\n",
       "    </tr>\n",
       "    <tr>\n",
       "      <th>999</th>\n",
       "      <td>NaN</td>\n",
       "      <td>NaN</td>\n",
       "      <td>2.052217</td>\n",
       "      <td>NaN</td>\n",
       "      <td>NaN</td>\n",
       "      <td>NaN</td>\n",
       "      <td>NaN</td>\n",
       "      <td>NaN</td>\n",
       "      <td>NaN</td>\n",
       "      <td>1.186085</td>\n",
       "    </tr>\n",
       "  </tbody>\n",
       "</table>\n",
       "<p>1000 rows × 10 columns</p>\n",
       "</div>"
      ],
      "text/plain": [
       "            0   1         2         3         4   5         6         7  \\\n",
       "0    0.985021 NaN  3.976391       NaN       NaN NaN  0.972958       NaN   \n",
       "1    1.034692 NaN  3.742860       NaN       NaN NaN  1.056337       NaN   \n",
       "2    1.088304 NaN  4.882386  0.613374  0.082628 NaN  1.763349  0.178699   \n",
       "3    0.536199 NaN  4.135992       NaN       NaN NaN  1.413018       NaN   \n",
       "4    0.704954 NaN  4.518045  0.195103       NaN NaN  1.409038       NaN   \n",
       "..        ...  ..       ...       ...       ...  ..       ...       ...   \n",
       "995       NaN NaN  1.957325       NaN       NaN NaN       NaN       NaN   \n",
       "996       NaN NaN  2.667305       NaN       NaN NaN       NaN       NaN   \n",
       "997       NaN NaN  1.205663       NaN       NaN NaN       NaN       NaN   \n",
       "998       NaN NaN  2.296295       NaN       NaN NaN       NaN       NaN   \n",
       "999       NaN NaN  2.052217       NaN       NaN NaN       NaN       NaN   \n",
       "\n",
       "            8         9  \n",
       "0    1.377870       NaN  \n",
       "1    1.187662       NaN  \n",
       "2    2.474794  1.157234  \n",
       "3    1.625601  0.307493  \n",
       "4    1.958347  0.545565  \n",
       "..        ...       ...  \n",
       "995       NaN  1.068107  \n",
       "996       NaN  1.022584  \n",
       "997       NaN  0.140771  \n",
       "998  0.349308  1.142637  \n",
       "999       NaN  1.186085  \n",
       "\n",
       "[1000 rows x 10 columns]"
      ]
     },
     "execution_count": 24,
     "metadata": {},
     "output_type": "execute_result"
    }
   ],
   "source": [
    "svm_clas_numbers.where(svm_multi_pred.ne(-1))"
   ]
  },
  {
   "cell_type": "code",
   "execution_count": 25,
   "metadata": {},
   "outputs": [
    {
     "data": {
      "text/html": [
       "<div>\n",
       "<style scoped>\n",
       "    .dataframe tbody tr th:only-of-type {\n",
       "        vertical-align: middle;\n",
       "    }\n",
       "\n",
       "    .dataframe tbody tr th {\n",
       "        vertical-align: top;\n",
       "    }\n",
       "\n",
       "    .dataframe thead th {\n",
       "        text-align: right;\n",
       "    }\n",
       "</style>\n",
       "<table border=\"1\" class=\"dataframe\">\n",
       "  <thead>\n",
       "    <tr style=\"text-align: right;\">\n",
       "      <th></th>\n",
       "      <th>0</th>\n",
       "      <th>1</th>\n",
       "      <th>2</th>\n",
       "      <th>3</th>\n",
       "      <th>4</th>\n",
       "      <th>5</th>\n",
       "      <th>6</th>\n",
       "      <th>7</th>\n",
       "      <th>8</th>\n",
       "      <th>9</th>\n",
       "    </tr>\n",
       "  </thead>\n",
       "  <tbody>\n",
       "    <tr>\n",
       "      <th>905</th>\n",
       "      <td>-1</td>\n",
       "      <td>-1</td>\n",
       "      <td>-1</td>\n",
       "      <td>-1</td>\n",
       "      <td>-1</td>\n",
       "      <td>-1</td>\n",
       "      <td>-1</td>\n",
       "      <td>-1</td>\n",
       "      <td>-1</td>\n",
       "      <td>-1</td>\n",
       "    </tr>\n",
       "    <tr>\n",
       "      <th>949</th>\n",
       "      <td>-1</td>\n",
       "      <td>-1</td>\n",
       "      <td>-1</td>\n",
       "      <td>-1</td>\n",
       "      <td>-1</td>\n",
       "      <td>-1</td>\n",
       "      <td>-1</td>\n",
       "      <td>-1</td>\n",
       "      <td>-1</td>\n",
       "      <td>-1</td>\n",
       "    </tr>\n",
       "  </tbody>\n",
       "</table>\n",
       "</div>"
      ],
      "text/plain": [
       "     0  1  2  3  4  5  6  7  8  9\n",
       "905 -1 -1 -1 -1 -1 -1 -1 -1 -1 -1\n",
       "949 -1 -1 -1 -1 -1 -1 -1 -1 -1 -1"
      ]
     },
     "execution_count": 25,
     "metadata": {},
     "output_type": "execute_result"
    }
   ],
   "source": [
    "svm_multi_pred.loc[lambda x: x.eq(-1).all(axis=1)]"
   ]
  },
  {
   "cell_type": "code",
   "execution_count": 26,
   "metadata": {},
   "outputs": [
    {
     "data": {
      "text/plain": [
       "0.276"
      ]
     },
     "execution_count": 26,
     "metadata": {},
     "output_type": "execute_result"
    }
   ],
   "source": [
    "accuracy_classnumber = np.mean(y_test_0to9 == y_pred_0to9_classnumber)\n",
    "accuracy_classnumber"
   ]
  },
  {
   "cell_type": "code",
   "execution_count": 27,
   "metadata": {},
   "outputs": [
    {
     "data": {
      "text/plain": [
       "0"
      ]
     },
     "execution_count": 27,
     "metadata": {},
     "output_type": "execute_result"
    }
   ],
   "source": [
    "y_pred_0to9_classnumber[905]"
   ]
  },
  {
   "cell_type": "code",
   "execution_count": 28,
   "metadata": {},
   "outputs": [
    {
     "data": {
      "image/png": "[encoded data removed]",
      "text/plain": [
       "<Figure size 600x600 with 1 Axes>"
      ]
     },
     "metadata": {},
     "output_type": "display_data"
    }
   ],
   "source": [
    "# Confusion matrix - row normalization\n",
    "fig, ax = plt.subplots(figsize=(6, 6))\n",
    "ConfusionMatrixDisplay.from_predictions(\n",
    "    y_test_0to9,\n",
    "    y_pred_0to9_classnumber,\n",
    "    normalize=\"true\",\n",
    "    values_format=\".2f\",\n",
    "    ax=ax\n",
    ")\n",
    "ax.images[0].colorbar.remove()\n",
    "ax.set_title(f\"Confusion matrix\")\n",
    "fig.tight_layout()\n",
    "# fig.savefig(\n",
    "    # f\"final_confusion_matrix_vote_fulldata.png\",\n",
    "    # dpi=300\n",
    "# )"
   ]
  },
  {
   "cell_type": "markdown",
   "metadata": {},
   "source": [
    "10. Multiclass with voting"
   ]
  },
  {
   "cell_type": "code",
   "execution_count": 29,
   "metadata": {},
   "outputs": [],
   "source": [
    "svm_pairs_pred = {}\n",
    "for label_1, label_2 in combinations(labels_0to9, 2):\n",
    "    map_dict = {label_1: -1, label_2: 1}\n",
    "    map_inv_dict = {v: k for k, v in map_dict.items()}\n",
    "    X_train, y_train = filter_data(X_train_0to9, y_train_0to9, [label_1, label_2])\n",
    "    y_train_bin = np.vectorize(map_dict.get)(y_train)\n",
    "    svm = SVM_binary(C=C, gamma=gamma)\n",
    "    svm.train(X_train, y_train_bin)\n",
    "    y_pred_bin = svm.predict(X_test_0to9)\n",
    "    y_pred = np.vectorize(map_inv_dict.get)(y_pred_bin)\n",
    "    svm_pairs_pred[(label_1, label_2)] = y_pred\n",
    "pair_pred_df = pd.DataFrame(svm_pairs_pred.values()).T"
   ]
  },
  {
   "cell_type": "code",
   "execution_count": 30,
   "metadata": {},
   "outputs": [
    {
     "data": {
      "text/plain": [
       "0.858"
      ]
     },
     "execution_count": 30,
     "metadata": {},
     "output_type": "execute_result"
    }
   ],
   "source": [
    "y_pred_0to9_vote = pair_pred_df.mode(axis=1).loc[:, 0].astype(int).to_numpy()\n",
    "accuracy_vote = np.mean(y_test_0to9 == y_pred_0to9_vote)\n",
    "accuracy_vote"
   ]
  },
  {
   "cell_type": "code",
   "execution_count": 31,
   "metadata": {},
   "outputs": [
    {
     "data": {
      "image/png": "[encoded data removed]",
      "text/plain": [
       "<Figure size 600x600 with 1 Axes>"
      ]
     },
     "metadata": {},
     "output_type": "display_data"
    }
   ],
   "source": [
    "fig, ax = plt.subplots(figsize=(6, 6))\n",
    "ConfusionMatrixDisplay.from_predictions(\n",
    "    y_test_0to9,\n",
    "    y_pred_0to9_vote,\n",
    "    normalize=\"true\",\n",
    "    values_format=\".2f\",\n",
    "    ax=ax\n",
    ")\n",
    "ax.images[0].colorbar.remove()\n",
    "ax.set_title(f\"Confusion matrix\")\n",
    "fig.tight_layout()\n",
    "fig.savefig(\n",
    "    f\"final_confusion_matrix_vote.png\",\n",
    "    dpi=300\n",
    ")"
   ]
  },
  {
   "cell_type": "code",
   "execution_count": null,
   "metadata": {},
   "outputs": [],
   "source": []
  }
 ],
 "metadata": {
  "jupytext": {
   "formats": "ipynb,py"
  },
  "kernelspec": {
   "display_name": "Python 3 (ipykernel)",
   "language": "python",
   "name": "python3"
  },
  "language_info": {
   "codemirror_mode": {
    "name": "ipython",
    "version": 3
   },
   "file_extension": ".py",
   "mimetype": "text/x-python",
   "name": "python",
   "nbconvert_exporter": "python",
   "pygments_lexer": "ipython3",
   "version": "3.10.9"
  }
 },
 "nbformat": 4,
 "nbformat_minor": 4
}
