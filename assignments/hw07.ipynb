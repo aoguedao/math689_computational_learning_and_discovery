{
 "cells": [
  {
   "cell_type": "markdown",
   "metadata": {},
   "source": [
    "# Homework #07"
   ]
  },
  {
   "cell_type": "code",
   "execution_count": 1,
   "metadata": {},
   "outputs": [],
   "source": [
    "import secrets\n",
    "import numpy as np\n",
    "import matplotlib.pyplot as plt\n",
    "\n",
    "from pathlib import Path\n",
    "from scipy.stats import mode\n",
    "from sklearn.metrics import pairwise_distances\n",
    "from sklearn.metrics import ConfusionMatrixDisplay"
   ]
  },
  {
   "cell_type": "code",
   "execution_count": 2,
   "metadata": {},
   "outputs": [],
   "source": [
    "data_path = Path().resolve().parent / \"data\""
   ]
  },
  {
   "cell_type": "code",
   "execution_count": 3,
   "metadata": {},
   "outputs": [],
   "source": [
    "# Random seed for reproducibility\n",
    "# secrets.randbits(128) # 208905213533139122735706682150229709525\n",
    "rng = np.random.default_rng(208905213533139122735706682150229709525)\n",
    "indices_train = rng.choice(5000, 2500, replace=False)\n",
    "indices_test = rng.choice(800, 400, replace=False)\n",
    "flag_full_dataset = False  # If it is True it will use full train and test datasets"
   ]
  },
  {
   "cell_type": "code",
   "execution_count": 4,
   "metadata": {},
   "outputs": [
    {
     "data": {
      "text/plain": [
       "(25000, 785)"
      ]
     },
     "execution_count": 4,
     "metadata": {},
     "output_type": "execute_result"
    }
   ],
   "source": [
    "train_list = []  # Auxiliary list of train datasets\n",
    "for f in data_path.glob(\"train*.txt\"):\n",
    "    # Sample or full dataset\n",
    "    raw_data = np.loadtxt(f) if flag_full_dataset else np.loadtxt(f)[indices_train, :]\n",
    "    target = raw_data[:, [0]]  # Target values, i.e. digit\n",
    "    features = raw_data[:, 1:] / raw_data[:, 1:].max(axis=1, keepdims=True)\n",
    "    train_list.append(np.hstack((target, features)))  # Add to the temp list\n",
    "train_data = np.vstack(train_list)  # Concatenate train datasets\n",
    "train_data.shape"
   ]
  },
  {
   "cell_type": "code",
   "execution_count": 5,
   "metadata": {},
   "outputs": [
    {
     "data": {
      "text/plain": [
       "(4000, 785)"
      ]
     },
     "execution_count": 5,
     "metadata": {},
     "output_type": "execute_result"
    }
   ],
   "source": [
    "# Similar to train dataset\n",
    "test_list = []\n",
    "for f in data_path.glob(\"test*.txt\"):\n",
    "    raw_data = np.loadtxt(f) if flag_full_dataset else np.loadtxt(f)[indices_test, :]\n",
    "    target = raw_data[:, [0]]\n",
    "    features = raw_data[:, 1:] / raw_data[:, 1:].max(axis=1, keepdims=True)\n",
    "    test_list.append(np.hstack((target, features)))\n",
    "test_data = np.vstack(test_list)\n",
    "test_data.shape"
   ]
  },
  {
   "cell_type": "code",
   "execution_count": 6,
   "metadata": {},
   "outputs": [],
   "source": [
    "# Split datasets into features matrices and target vectors\n",
    "X_train = train_data[:, 1:]\n",
    "y_train = train_data[:, 0].astype(int)\n",
    "X_test = test_data[:, 1:]\n",
    "y_test = test_data[:, 0].astype(int)"
   ]
  },
  {
   "cell_type": "code",
   "execution_count": 7,
   "metadata": {},
   "outputs": [],
   "source": [
    "def accuracy(y_pred, y_real):\n",
    "    return np.mean(y_pred == y_real)"
   ]
  },
  {
   "cell_type": "code",
   "execution_count": 8,
   "metadata": {},
   "outputs": [],
   "source": [
    "# Distances\n",
    "eps = 1\n",
    "dist_test_train = pairwise_distances(X_test, X_train, \"euclidean\", n_jobs=-1)\n",
    "weights_array = 1 / (dist_test_train ** 2 + eps)"
   ]
  },
  {
   "cell_type": "markdown",
   "metadata": {
    "tags": []
   },
   "source": [
    "## Unweighted"
   ]
  },
  {
   "cell_type": "code",
   "execution_count": 9,
   "metadata": {},
   "outputs": [],
   "source": [
    "pred_dict = {}\n",
    "for k in range(1, 8):\n",
    "    argsort_dist = np.argsort(dist_test_train, axis=1)[:, :k]  # Sort indexes\n",
    "    nearest_labels = y_train[argsort_dist]  # Get nearest labels from train data\n",
    "    y_pred = mode(nearest_labels, axis=1, keepdims=False)[0]  # Compute mode from labels\n",
    "    pred_dict[k] = y_pred\n",
    "    print(f\"k = {k} - Accuracy {accuracy(y_pred, y_test)}\")"
   ]
  },
  {
   "cell_type": "markdown",
   "metadata": {
    "tags": []
   },
   "source": [
    "## Weighted"
   ]
  },
  {
   "cell_type": "code",
   "execution_count": 10,
   "metadata": {},
   "outputs": [],
   "source": [
    "y_unique = np.unique(y_test)  # Get unique targets labels (digits)\n",
    "n_labels = len(y_train)\n",
    "n_test, _ = X_test.shape"
   ]
  },
  {
   "cell_type": "code",
   "execution_count": 11,
   "metadata": {},
   "outputs": [
    {
     "name": "stdout",
     "output_type": "stream",
     "text": [
      "k = 4 - Accuracy 0.9605\n"
     ]
    }
   ],
   "source": [
    "pred_weight_dict = {}\n",
    "for k in range(4, 5):\n",
    "    argsort_dist = np.argsort(dist_test_train, axis=1)[:, :k]  # Sort indexes\n",
    "    nearest_labels = y_train[argsort_dist]  # Nearest labels\n",
    "    nearest_weights = np.take_along_axis(weights_array, argsort_dist, axis=1)  # Weight of nearest\n",
    "    objective_array = np.zeros(shape=(n_test, n_labels))  # Empty sum of objective function\n",
    "    # Iterate for each label\n",
    "    for label in y_unique:\n",
    "        # Create a mask and then sum the weights\n",
    "        mask = nearest_labels == label\n",
    "        objective_mask = np.ma.masked_array(nearest_weights, ~mask).sum(axis=1)\n",
    "        objective_array[:, label] = objective_mask.filled(0)\n",
    "    y_pred = np.argmax(objective_array, axis=1)  # Argmax objective function\n",
    "    pred_weight_dict[k] = y_pred\n",
    "    print(f\"k = {k} - Accuracy {accuracy(y_pred, y_test)}\")"
   ]
  },
  {
   "cell_type": "code",
   "execution_count": 12,
   "metadata": {},
   "outputs": [],
   "source": [
    "argsort_dist = np.argsort(dist_test_train, axis=1) # All the neighbors\n",
    "nearest_labels = y_train[argsort_dist]\n",
    "nearest_weights = np.take_along_axis(weights_array, argsort_dist, axis=1)\n",
    "objective_array = np.zeros(shape=(n_test, n_labels))\n",
    "for label in y_unique:\n",
    "    mask = nearest_labels == label\n",
    "    objective_mask = np.ma.masked_array(nearest_weights, ~mask).sum(axis=1)\n",
    "    objective_array[:, label] = objective_mask.filled(0)\n",
    "y_pred = np.argmax(objective_array, axis=1)\n",
    "print(f\"Accuracy {accuracy(y_pred, y_test)}\")"
   ]
  },
  {
   "cell_type": "code",
   "execution_count": 20,
   "metadata": {},
   "outputs": [
    {
     "name": "stdout",
     "output_type": "stream",
     "text": [
      "\n",
      "    Accuracy weighted KNN with 4 neighbors was 96.05% and with\n",
      "    approximately 95% probability the true accuracy lies in the interval\n",
      "    [0.9545, 0.9665]\n",
      "\n"
     ]
    },
    {
     "data": {
      "image/png": "[encoded data removed]",
      "text/plain": [
       "<Figure size 600x600 with 1 Axes>"
      ]
     },
     "metadata": {},
     "output_type": "display_data"
    }
   ],
   "source": [
    "k = 4\n",
    "y_pred = pred_weight_dict[k]  # Best performance\n",
    "error_h = accuracy(y_pred, y_test)\n",
    "sigma = np.sqrt(error_h * (1 - error_h) / y_test.size)\n",
    "print(f\"\"\"\n",
    "    Accuracy weighted KNN with {k} neighbors was {error_h:.2%} and with\n",
    "    approximately 95% probability the true accuracy lies in the interval\n",
    "    [{error_h - 1.96 * sigma:.4f}, {error_h + 1.96 * sigma:.4f}]\n",
    "\"\"\"\n",
    ")\n",
    "# Confusion matrix - row normalization\n",
    "fig, ax = plt.subplots(figsize=(6, 6))\n",
    "ConfusionMatrixDisplay.from_predictions(\n",
    "    y_test,\n",
    "    y_pred,\n",
    "    normalize=\"true\",\n",
    "    values_format=\".2f\",\n",
    "    ax=ax\n",
    ")\n",
    "ax.images[0].colorbar.remove()\n",
    "ax.set_title(f\"Confusion matrix\")\n",
    "fig.tight_layout()\n",
    "fig.savefig(\n",
    "    f\"hw07_confusion_matrix.png\",\n",
    "    dpi=300\n",
    ")"
   ]
  }
 ],
 "metadata": {
  "jupytext": {
   "formats": "ipynb,py"
  },
  "kernelspec": {
   "display_name": "Python 3 (ipykernel)",
   "language": "python",
   "name": "python3"
  },
  "language_info": {
   "codemirror_mode": {
    "name": "ipython",
    "version": 3
   },
   "file_extension": ".py",
   "mimetype": "text/x-python",
   "name": "python",
   "nbconvert_exporter": "python",
   "pygments_lexer": "ipython3",
   "version": "3.10.9"
  }
 },
 "nbformat": 4,
 "nbformat_minor": 4
}
